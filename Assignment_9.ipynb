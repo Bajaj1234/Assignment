{
 "cells": [
  {
   "cell_type": "markdown",
   "id": "05683f07",
   "metadata": {},
   "source": [
    "Write a Python program to check if the given number is a Disarium Number?"
   ]
  },
  {
   "cell_type": "code",
   "execution_count": 6,
   "id": "1a75c85f",
   "metadata": {},
   "outputs": [],
   "source": [
    "def Disarium(a):\n",
    "    a= str(a)\n",
    "    x=0\n",
    "    for i in range(len(a)):\n",
    "        x=x+int(a[i])**(i+1)\n",
    "    if x==int(a):\n",
    "        print('Given number is disarium number')\n",
    "    else:\n",
    "        print('Given number is not disarium number')\n",
    "        "
   ]
  },
  {
   "cell_type": "code",
   "execution_count": 16,
   "id": "f69ddca2",
   "metadata": {},
   "outputs": [
    {
     "name": "stdout",
     "output_type": "stream",
     "text": [
      "Given number is disarium number\n"
     ]
    }
   ],
   "source": [
    "Disarium(89)"
   ]
  },
  {
   "cell_type": "markdown",
   "id": "5d9d7987",
   "metadata": {},
   "source": [
    "Write a Python program to print all disarium numbers between 1 to 100?"
   ]
  },
  {
   "cell_type": "code",
   "execution_count": 14,
   "id": "e7a72904",
   "metadata": {},
   "outputs": [],
   "source": [
    "def Disarium_list(b):\n",
    "    for a in range(1,b+1):\n",
    "        a= str(a)\n",
    "        x=0\n",
    "        for i in range(len(a)):\n",
    "            x=x+int(a[i])**(i+1)\n",
    "        if x==int(a):\n",
    "            print('Given number is disarium number',int(a))\n",
    "      "
   ]
  },
  {
   "cell_type": "code",
   "execution_count": 15,
   "id": "6f708e44",
   "metadata": {},
   "outputs": [
    {
     "name": "stdout",
     "output_type": "stream",
     "text": [
      "Given number is disarium number 1\n",
      "Given number is disarium number 2\n",
      "Given number is disarium number 3\n",
      "Given number is disarium number 4\n",
      "Given number is disarium number 5\n",
      "Given number is disarium number 6\n",
      "Given number is disarium number 7\n",
      "Given number is disarium number 8\n",
      "Given number is disarium number 9\n",
      "Given number is disarium number 89\n"
     ]
    }
   ],
   "source": [
    "Disarium_list(100)"
   ]
  },
  {
   "cell_type": "markdown",
   "id": "7cbc266d",
   "metadata": {},
   "source": [
    "3. Write a Python program to check if the given number is Happy Number?"
   ]
  },
  {
   "cell_type": "code",
   "execution_count": 35,
   "id": "5c58082c",
   "metadata": {},
   "outputs": [],
   "source": [
    "def happy(b):\n",
    "    z=0\n",
    "    b= str(b)\n",
    "    x=0\n",
    "    for i in range(len(b)):\n",
    "         x=x+int(b[i])**(2)\n",
    "    while(len(str(x))>1):\n",
    "        b=str(x)\n",
    "        x=0\n",
    "        for i in range(len(b)):\n",
    "            x=x+int(b[i])**(2)\n",
    "        z=z+1\n",
    "        if (z>50):\n",
    "            break\n",
    "    if x==1:\n",
    "        print('Given number is Happy number')\n",
    "    else:\n",
    "        print(\"Given number is not happy number\")\n",
    "        \n",
    "        "
   ]
  },
  {
   "cell_type": "code",
   "execution_count": 36,
   "id": "7dc3d8fd",
   "metadata": {},
   "outputs": [
    {
     "name": "stdout",
     "output_type": "stream",
     "text": [
      "Given number is Happy number\n"
     ]
    }
   ],
   "source": [
    "happy(100)"
   ]
  },
  {
   "cell_type": "markdown",
   "id": "90d74c47",
   "metadata": {},
   "source": [
    "Write a Python program to print all happy numbers between 1 and 100?"
   ]
  },
  {
   "cell_type": "code",
   "execution_count": 47,
   "id": "aba74286",
   "metadata": {},
   "outputs": [],
   "source": [
    "def happy_list(e):\n",
    "    d=[]\n",
    "    for t in range(1,e+1):\n",
    "        z=0\n",
    "        b= str(t)\n",
    "        x=0\n",
    "        for i in range(len(b)):\n",
    "             x=x+int(b[i])**(2)\n",
    "        while(len(str(x))>1):\n",
    "            b=str(x)\n",
    "            x=0\n",
    "            for i in range(len(b)):\n",
    "                x=x+int(b[i])**(2)\n",
    "            z=z+1\n",
    "            if (z>50):\n",
    "                break\n",
    "        if x==1:\n",
    "            d.append(t)\n",
    "    return d"
   ]
  },
  {
   "cell_type": "code",
   "execution_count": 48,
   "id": "f3f8afe0",
   "metadata": {},
   "outputs": [
    {
     "data": {
      "text/plain": [
       "[1, 7, 10, 13, 19, 23, 28, 31, 32, 44, 49, 68, 70, 79, 82, 86, 91, 94, 97, 100]"
      ]
     },
     "execution_count": 48,
     "metadata": {},
     "output_type": "execute_result"
    }
   ],
   "source": [
    "happy_list(100)"
   ]
  },
  {
   "cell_type": "markdown",
   "id": "1ffe7a15",
   "metadata": {},
   "source": [
    "Write a Python program to determine whether the given number is a Harshad Number?"
   ]
  },
  {
   "cell_type": "code",
   "execution_count": 49,
   "id": "5a8664ec",
   "metadata": {},
   "outputs": [],
   "source": [
    "def harshad(a):\n",
    "    b=str(a)\n",
    "    x=0\n",
    "    for i in b:\n",
    "        x=x+int(i)\n",
    "    if a%x==0:\n",
    "        print('Given number is Harshad number')"
   ]
  },
  {
   "cell_type": "code",
   "execution_count": 50,
   "id": "e27bdc64",
   "metadata": {},
   "outputs": [
    {
     "name": "stdout",
     "output_type": "stream",
     "text": [
      "Given number is Harshad number\n"
     ]
    }
   ],
   "source": [
    "harshad(12)"
   ]
  },
  {
   "cell_type": "markdown",
   "id": "4219991f",
   "metadata": {},
   "source": [
    "Write a Python program to print all pronic numbers between 1 and 100?"
   ]
  },
  {
   "cell_type": "code",
   "execution_count": 54,
   "id": "8e8e4b39",
   "metadata": {},
   "outputs": [],
   "source": [
    "def pronic(b):\n",
    "    l=[]\n",
    "    for a in range(1,b+1):\n",
    "\n",
    "        mode=False\n",
    "        for i in range(1,a+1):\n",
    "            if a%i==0:\n",
    "                if i*(i+1)==a:\n",
    "                    print('Given number is pronic number')\n",
    "                    mode=True\n",
    "        if mode==True:\n",
    "            l.append(a)\n",
    "    return l\n",
    "        "
   ]
  },
  {
   "cell_type": "code",
   "execution_count": 55,
   "id": "18bd80d5",
   "metadata": {},
   "outputs": [
    {
     "name": "stdout",
     "output_type": "stream",
     "text": [
      "Given number is pronic number\n",
      "Given number is pronic number\n",
      "Given number is pronic number\n",
      "Given number is pronic number\n",
      "Given number is pronic number\n",
      "Given number is pronic number\n",
      "Given number is pronic number\n",
      "Given number is pronic number\n",
      "Given number is pronic number\n"
     ]
    },
    {
     "data": {
      "text/plain": [
       "[2, 6, 12, 20, 30, 42, 56, 72, 90]"
      ]
     },
     "execution_count": 55,
     "metadata": {},
     "output_type": "execute_result"
    }
   ],
   "source": [
    "pronic(100)"
   ]
  },
  {
   "cell_type": "code",
   "execution_count": null,
   "id": "bec86a5a",
   "metadata": {},
   "outputs": [],
   "source": []
  }
 ],
 "metadata": {
  "kernelspec": {
   "display_name": "Python 3 (ipykernel)",
   "language": "python",
   "name": "python3"
  },
  "language_info": {
   "codemirror_mode": {
    "name": "ipython",
    "version": 3
   },
   "file_extension": ".py",
   "mimetype": "text/x-python",
   "name": "python",
   "nbconvert_exporter": "python",
   "pygments_lexer": "ipython3",
   "version": "3.9.13"
  }
 },
 "nbformat": 4,
 "nbformat_minor": 5
}
