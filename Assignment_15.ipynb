{
 "cells": [
  {
   "cell_type": "markdown",
   "id": "609726e2",
   "metadata": {},
   "source": [
    "Please write a program using generator to print the numbers which can be divisible by 5 and\n",
    "7 between 0 and n in comma separated form while n is input by console.\n",
    "Example:\n",
    "If the following n is given as input to the program:\n",
    "100\n",
    "Then, the output of the program should be:\n",
    "0,35,70"
   ]
  },
  {
   "cell_type": "code",
   "execution_count": 11,
   "id": "28c2b1cf",
   "metadata": {},
   "outputs": [],
   "source": [
    "def divisible(n):\n",
    "    for i in range(n+1):\n",
    "        if(i%7==0) & (i%5==0):\n",
    "            yield i"
   ]
  },
  {
   "cell_type": "code",
   "execution_count": 14,
   "id": "ccf3cd3f",
   "metadata": {},
   "outputs": [
    {
     "name": "stdout",
     "output_type": "stream",
     "text": [
      "enter number100\n"
     ]
    }
   ],
   "source": [
    "n=int(input(\"enter number\"))\n",
    "a=divisible(n)"
   ]
  },
  {
   "cell_type": "code",
   "execution_count": 15,
   "id": "f55eb7d9",
   "metadata": {},
   "outputs": [
    {
     "name": "stdout",
     "output_type": "stream",
     "text": [
      "0,35,70,"
     ]
    }
   ],
   "source": [
    "for i in a:\n",
    "    print(i,end=',')"
   ]
  },
  {
   "cell_type": "markdown",
   "id": "5c860707",
   "metadata": {},
   "source": [
    "Please write a program using generator to print the even numbers between 0 and n in comma\n",
    "separated form while n is input by console.\n",
    "Example:\n",
    "If the following n is given as input to the program:\n",
    "10\n",
    "Then, the output of the program should be:\n",
    "0,2,4,6,8,10"
   ]
  },
  {
   "cell_type": "code",
   "execution_count": 17,
   "id": "3034e85d",
   "metadata": {},
   "outputs": [],
   "source": [
    "def divide(n):\n",
    "    for i in range(n+1):\n",
    "        if(i%2==0):\n",
    "            yield i"
   ]
  },
  {
   "cell_type": "code",
   "execution_count": 18,
   "id": "7f6839ff",
   "metadata": {},
   "outputs": [
    {
     "name": "stdout",
     "output_type": "stream",
     "text": [
      "enter number100\n",
      "0,2,4,6,8,10,12,14,16,18,20,22,24,26,28,30,32,34,36,38,40,42,44,46,48,50,52,54,56,58,60,62,64,66,68,70,72,74,76,78,80,82,84,86,88,90,92,94,96,98,100,"
     ]
    }
   ],
   "source": [
    "a=int(input(\"enter number\"))\n",
    "b=divide(a)\n",
    "for i in b:\n",
    "    print(i,end=',')"
   ]
  },
  {
   "cell_type": "markdown",
   "id": "45ca3b92",
   "metadata": {},
   "source": [
    "The Fibonacci Sequence is computed based on the following formula:\n",
    "f(n)=0 if n=0\n",
    "f(n)=1 if n=1\n",
    "f(n)=f(n-1)+f(n-2) if n&gt;1\n",
    "Please write a program using list comprehension to print the Fibonacci Sequence in comma\n",
    "separated form with a given n input by console.\n",
    "Example:\n",
    "If the following n is given as input to the program:\n",
    "7\n",
    "\n",
    "Then, the output of the program should be:\n",
    "0,1,1,2,3,5,8,13"
   ]
  },
  {
   "cell_type": "code",
   "execution_count": 28,
   "id": "77ba836b",
   "metadata": {},
   "outputs": [],
   "source": [
    "def fibonacci(n):\n",
    "    a=0\n",
    "    b=1\n",
    "    l=[0]\n",
    "    for i in range(n):\n",
    "        a,b=  b,a+b\n",
    "        l.append(a)\n",
    "    return  [print(i,end =',') for i in l]"
   ]
  },
  {
   "cell_type": "code",
   "execution_count": 29,
   "id": "c411a8e6",
   "metadata": {},
   "outputs": [
    {
     "name": "stdout",
     "output_type": "stream",
     "text": [
      "0,1,1,2,3,5,8,13,"
     ]
    },
    {
     "data": {
      "text/plain": [
       "[None, None, None, None, None, None, None, None]"
      ]
     },
     "execution_count": 29,
     "metadata": {},
     "output_type": "execute_result"
    }
   ],
   "source": [
    "fibonacci(7)"
   ]
  },
  {
   "cell_type": "markdown",
   "id": "ef4de435",
   "metadata": {},
   "source": [
    "Assuming that we have some email addresses in the &quot;username@companyname.com&quot; format,\n",
    "please write program to print the user name of a given email address. Both user names and\n",
    "company names are composed of letters only.\n",
    "Example:\n",
    "If the following email address is given as input to the program:\n",
    "john@google.com\n",
    "Then, the output of the program should be:\n",
    "john"
   ]
  },
  {
   "cell_type": "code",
   "execution_count": 34,
   "id": "22a7fa87",
   "metadata": {},
   "outputs": [
    {
     "name": "stdout",
     "output_type": "stream",
     "text": [
      "enter email IDcdsiufwifhiwhfiwuh@gakmo\n"
     ]
    },
    {
     "data": {
      "text/plain": [
       "'cdsiufwifhiwhfiwuhgakmo'"
      ]
     },
     "execution_count": 34,
     "metadata": {},
     "output_type": "execute_result"
    }
   ],
   "source": [
    "a=str(input('enter email ID'))\n",
    "b=''\n",
    "for i in a:\n",
    "    if (i!='@'):\n",
    "        b=b+i\n",
    "b\n",
    "        "
   ]
  },
  {
   "cell_type": "markdown",
   "id": "4b72434e",
   "metadata": {},
   "source": [
    "Define a class named Shape and its subclass Square. The Square class has an init function\n",
    "which takes a length as argument. Both classes have a area function which can print the area\n",
    "of the shape where Shape&#39;s area is 0 by default."
   ]
  },
  {
   "cell_type": "code",
   "execution_count": 43,
   "id": "a4e33e7d",
   "metadata": {},
   "outputs": [],
   "source": [
    "class Shape:\n",
    "    def area(self):\n",
    "        self.area = 0\n",
    "class Square(Shape):\n",
    "    def __init__(self,a):\n",
    "        super(Square,self).__init__()\n",
    "        self.a = a\n",
    "    def area(self):\n",
    "        self.area = self.a**2\n",
    "        return self.area\n",
    "    "
   ]
  },
  {
   "cell_type": "code",
   "execution_count": 44,
   "id": "92a50003",
   "metadata": {},
   "outputs": [],
   "source": [
    "b=Square(12)"
   ]
  },
  {
   "cell_type": "code",
   "execution_count": 45,
   "id": "1b90a4c5",
   "metadata": {},
   "outputs": [
    {
     "data": {
      "text/plain": [
       "144"
      ]
     },
     "execution_count": 45,
     "metadata": {},
     "output_type": "execute_result"
    }
   ],
   "source": [
    "b.area()"
   ]
  },
  {
   "cell_type": "code",
   "execution_count": null,
   "id": "636b5652",
   "metadata": {},
   "outputs": [],
   "source": []
  }
 ],
 "metadata": {
  "kernelspec": {
   "display_name": "Python 3 (ipykernel)",
   "language": "python",
   "name": "python3"
  },
  "language_info": {
   "codemirror_mode": {
    "name": "ipython",
    "version": 3
   },
   "file_extension": ".py",
   "mimetype": "text/x-python",
   "name": "python",
   "nbconvert_exporter": "python",
   "pygments_lexer": "ipython3",
   "version": "3.9.13"
  }
 },
 "nbformat": 4,
 "nbformat_minor": 5
}
