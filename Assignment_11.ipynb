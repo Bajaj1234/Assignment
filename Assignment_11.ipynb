{
 "cells": [
  {
   "cell_type": "markdown",
   "id": "088e4b0e",
   "metadata": {},
   "source": [
    "1. Write a Python program to find words which are greater than given length k?\n",
    "2. Write a Python program for removing i-th character from a string?\n",
    "3. Write a Python program to split and join a string?\n",
    "4. Write a Python to check if a given string is binary string or not?\n",
    "5. Write a Python program to find uncommon words from two Strings?\n",
    "6. Write a Python to find all duplicate characters in string?\n",
    "7. Write a Python Program to check if a string contains any special character?"
   ]
  },
  {
   "cell_type": "markdown",
   "id": "246df7fa",
   "metadata": {},
   "source": [
    "Write a Python program to find words which are greater than given length k?"
   ]
  },
  {
   "cell_type": "code",
   "execution_count": 13,
   "id": "2072ecca",
   "metadata": {},
   "outputs": [],
   "source": [
    "def char (a,k):\n",
    "    try:\n",
    "        a=a.split()\n",
    "        print(a)\n",
    "        l=[]\n",
    "        for i in a:\n",
    "            if len(i)>k:\n",
    "                l.append(i)\n",
    "    except Exception as e:\n",
    "        print(e)\n",
    "    return l\n"
   ]
  },
  {
   "cell_type": "code",
   "execution_count": 14,
   "id": "59d6c5f7",
   "metadata": {},
   "outputs": [
    {
     "name": "stdout",
     "output_type": "stream",
     "text": [
      "['sdfdsff', 'dsf', 'sd', 'fds', 'f', 'dsf', 's', 'fsd', 'fd', 's', 'ds.', 're', 're', 'w', 'wer', 'wer', 'er', 'w', 'rw', 'r']\n"
     ]
    },
    {
     "data": {
      "text/plain": [
       "['sdfdsff']"
      ]
     },
     "execution_count": 14,
     "metadata": {},
     "output_type": "execute_result"
    }
   ],
   "source": [
    "char('sdfdsff dsf sd fds f dsf s fsd fd s ds. re re w wer wer er w rw r',5)"
   ]
  },
  {
   "cell_type": "markdown",
   "id": "edfba35a",
   "metadata": {},
   "source": [
    "Write a Python program for removing i-th character from a string?"
   ]
  },
  {
   "cell_type": "code",
   "execution_count": 30,
   "id": "eb4408a8",
   "metadata": {},
   "outputs": [],
   "source": [
    "def remove_i (a,i):\n",
    "    return a[0:i-1]+a[i:]"
   ]
  },
  {
   "cell_type": "code",
   "execution_count": 31,
   "id": "a8d28dc4",
   "metadata": {},
   "outputs": [
    {
     "data": {
      "text/plain": [
       "'wdssfdfsf'"
      ]
     },
     "execution_count": 31,
     "metadata": {},
     "output_type": "execute_result"
    }
   ],
   "source": [
    "remove_i('wdsfsfdfsf',4)"
   ]
  },
  {
   "cell_type": "markdown",
   "id": "d546867f",
   "metadata": {},
   "source": [
    "Write a Python program to split and join a string?"
   ]
  },
  {
   "cell_type": "code",
   "execution_count": 37,
   "id": "7e9a1e33",
   "metadata": {},
   "outputs": [],
   "source": [
    "def splitjoin(a):\n",
    "    try:\n",
    "        a=a.split(' ')\n",
    "        b=' '.join(a)\n",
    "    except:\n",
    "        print(\"There is some error\")\n",
    "    return b\n"
   ]
  },
  {
   "cell_type": "code",
   "execution_count": 38,
   "id": "641dd1d2",
   "metadata": {},
   "outputs": [
    {
     "data": {
      "text/plain": [
       "'dfe. rg r g rg r g rt r t 4. gt er. '"
      ]
     },
     "execution_count": 38,
     "metadata": {},
     "output_type": "execute_result"
    }
   ],
   "source": [
    "splitjoin('dfe. rg r g rg r g rt r t 4. gt er. ')"
   ]
  },
  {
   "cell_type": "markdown",
   "id": "0aa16c78",
   "metadata": {},
   "source": [
    "Write a Python to check if a given string is binary string or not?"
   ]
  },
  {
   "cell_type": "code",
   "execution_count": 39,
   "id": "d2a071e2",
   "metadata": {},
   "outputs": [],
   "source": [
    "def is_binary(a):\n",
    "    return all(char in ('0','1') for char in a)"
   ]
  },
  {
   "cell_type": "code",
   "execution_count": 40,
   "id": "c0e4c6fd",
   "metadata": {},
   "outputs": [
    {
     "data": {
      "text/plain": [
       "False"
      ]
     },
     "execution_count": 40,
     "metadata": {},
     "output_type": "execute_result"
    }
   ],
   "source": [
    "is_binary('udshiufhwifhcw')"
   ]
  },
  {
   "cell_type": "code",
   "execution_count": 42,
   "id": "eca0106e",
   "metadata": {},
   "outputs": [
    {
     "name": "stdout",
     "output_type": "stream",
     "text": [
      "This is not binay number\n"
     ]
    }
   ],
   "source": [
    "if is_binary('sdfsbfdwbfiwiufhiuw'):\n",
    "    print(\"This is binay number\")\n",
    "else:\n",
    "    print(\"This is not binay number\")"
   ]
  },
  {
   "cell_type": "markdown",
   "id": "ec14ad42",
   "metadata": {},
   "source": [
    "Write a Python program to find uncommon words from two Strings?"
   ]
  },
  {
   "cell_type": "code",
   "execution_count": 56,
   "id": "7cf479a4",
   "metadata": {},
   "outputs": [],
   "source": [
    "def find_word(a,b):\n",
    "   \n",
    "    a=set(a.split())\n",
    "    b= set(b.split())\n",
    "    return a.symmetric_difference(b)"
   ]
  },
  {
   "cell_type": "code",
   "execution_count": 62,
   "id": "46b72616",
   "metadata": {},
   "outputs": [
    {
     "data": {
      "text/plain": [
       "{'a', 'asdad', 'dsfe', 'e', 'fe', 'fe.', 'g', 'rer', 't', 'tt', 'y'}"
      ]
     },
     "execution_count": 62,
     "metadata": {},
     "output_type": "execute_result"
    }
   ],
   "source": [
    "find_word('asdad dsfe fe fe. rer e g','a t tt y y ')"
   ]
  },
  {
   "cell_type": "code",
   "execution_count": null,
   "id": "bce43b2c",
   "metadata": {},
   "outputs": [],
   "source": []
  },
  {
   "cell_type": "markdown",
   "id": "2521e60b",
   "metadata": {},
   "source": [
    "Write a Python to find all duplicate characters in string?"
   ]
  },
  {
   "cell_type": "code",
   "execution_count": 72,
   "id": "3b9032f1",
   "metadata": {},
   "outputs": [
    {
     "data": {
      "text/plain": [
       "['e', 'f', 'i', 'u', 'h', 'g']"
      ]
     },
     "execution_count": 72,
     "metadata": {},
     "output_type": "execute_result"
    }
   ],
   "source": [
    "char_count={}\n",
    "duplicate =[]\n",
    "a='eubfiehfiuhsiveighiehgiehrh'\n",
    "for i in a:\n",
    "    if i in char_count.keys():\n",
    "        char_count[i]+=1\n",
    "        if char_count[i]==2:\n",
    "            duplicate.append(i)\n",
    "    else :\n",
    "        char_count[i]=1\n",
    "duplicate\n",
    "\n",
    "    "
   ]
  },
  {
   "cell_type": "markdown",
   "id": "fac62d50",
   "metadata": {},
   "source": [
    "Write a Python Program to check if a string contains any special character"
   ]
  },
  {
   "cell_type": "code",
   "execution_count": 73,
   "id": "60e7522f",
   "metadata": {},
   "outputs": [],
   "source": [
    "import string"
   ]
  },
  {
   "cell_type": "code",
   "execution_count": 77,
   "id": "636aa54d",
   "metadata": {},
   "outputs": [
    {
     "name": "stdout",
     "output_type": "stream",
     "text": [
      "String having special character\n"
     ]
    }
   ],
   "source": [
    "for i in 'sdbfiwfi547^^*&^*':\n",
    "    if i in set(string.punctuation):\n",
    "        print(\"String having special character\")\n",
    "        break"
   ]
  },
  {
   "cell_type": "code",
   "execution_count": null,
   "id": "08dd98cf",
   "metadata": {},
   "outputs": [],
   "source": []
  }
 ],
 "metadata": {
  "kernelspec": {
   "display_name": "Python 3 (ipykernel)",
   "language": "python",
   "name": "python3"
  },
  "language_info": {
   "codemirror_mode": {
    "name": "ipython",
    "version": 3
   },
   "file_extension": ".py",
   "mimetype": "text/x-python",
   "name": "python",
   "nbconvert_exporter": "python",
   "pygments_lexer": "ipython3",
   "version": "3.9.13"
  }
 },
 "nbformat": 4,
 "nbformat_minor": 5
}
