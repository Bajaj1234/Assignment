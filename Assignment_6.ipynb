{
 "cells": [
  {
   "cell_type": "markdown",
   "id": "8ec9e25e",
   "metadata": {},
   "source": [
    "1. Write a Python Program to Display Fibonacci Sequence Using Recursion?"
   ]
  },
  {
   "cell_type": "code",
   "execution_count": 5,
   "id": "cec28cf8",
   "metadata": {},
   "outputs": [
    {
     "data": {
      "text/plain": [
       "[0, 1, 1, 2]"
      ]
     },
     "execution_count": 5,
     "metadata": {},
     "output_type": "execute_result"
    }
   ],
   "source": [
    "def fibonacci(c):\n",
    "    if c<1:\n",
    "        print(\"Wrong input\")\n",
    "    elif c==1:\n",
    "        return[0]\n",
    "    elif c==2:\n",
    "        return[0,1]\n",
    "    else:\n",
    "        a=0\n",
    "        b=1\n",
    "        l=[0,1]\n",
    "        for i in range(2,c):\n",
    "            a,b=b,a+b\n",
    "            l.append(b)\n",
    "        return l\n",
    "fibonacci(4)"
   ]
  },
  {
   "cell_type": "markdown",
   "id": "cf40dae9",
   "metadata": {},
   "source": [
    "Write a Python Program to Find Factorial of Number Using Recursion?"
   ]
  },
  {
   "cell_type": "code",
   "execution_count": 9,
   "id": "edfda60b",
   "metadata": {},
   "outputs": [
    {
     "data": {
      "text/plain": [
       "[1, 2, 4]"
      ]
     },
     "execution_count": 9,
     "metadata": {},
     "output_type": "execute_result"
    }
   ],
   "source": [
    "def factorial(a):\n",
    "    if a<1:\n",
    "        print('Factorial is not possible')\n",
    "    else:\n",
    "        l=[]\n",
    "        for i in range(1, a):\n",
    "            if a%i==0:\n",
    "                l.append(i)\n",
    "        l.append(a)\n",
    "        return(l)\n",
    "factorial(4)"
   ]
  },
  {
   "cell_type": "markdown",
   "id": "fe0f04ca",
   "metadata": {},
   "source": [
    "Write a Python Program to calculate your Body Mass Index?"
   ]
  },
  {
   "cell_type": "code",
   "execution_count": 15,
   "id": "005168f7",
   "metadata": {},
   "outputs": [
    {
     "name": "stdout",
     "output_type": "stream",
     "text": [
      "Enter weight Kg99\n",
      "Enter height meter2\n",
      "Body mass index of a person =  24.0\n"
     ]
    }
   ],
   "source": [
    "def bmi(a,b):\n",
    "    return (a//(b**2))\n",
    "a= float(input('Enter weight Kg'))\n",
    "b = float (input('Enter height meter'))\n",
    "print('Body mass index of a person = ' ,bmi(a,b))"
   ]
  },
  {
   "cell_type": "markdown",
   "id": "d3f71672",
   "metadata": {},
   "source": [
    "Write a Python Program to calculate the natural logarithm of any number?"
   ]
  },
  {
   "cell_type": "code",
   "execution_count": 16,
   "id": "7d15668f",
   "metadata": {},
   "outputs": [
    {
     "data": {
      "text/plain": [
       "2.302585092994046"
      ]
     },
     "execution_count": 16,
     "metadata": {},
     "output_type": "execute_result"
    }
   ],
   "source": [
    "import math\n",
    "def log(a):\n",
    "    return (math.log(a))\n",
    "log(10)"
   ]
  },
  {
   "cell_type": "markdown",
   "id": "dc3810d8",
   "metadata": {},
   "source": [
    "Write a Python Program for cube sum of first n natural numbers?"
   ]
  },
  {
   "cell_type": "code",
   "execution_count": 21,
   "id": "f6c1b0d3",
   "metadata": {},
   "outputs": [
    {
     "data": {
      "text/plain": [
       "3433857492466655228342632600822500"
      ]
     },
     "execution_count": 21,
     "metadata": {},
     "output_type": "execute_result"
    }
   ],
   "source": [
    "def cube(a):\n",
    "    x=0\n",
    "    for i in range(1,a+1):\n",
    "        x=x+i**3\n",
    "    return (x)\n",
    "cube(342342300)\n",
    "        "
   ]
  },
  {
   "cell_type": "code",
   "execution_count": null,
   "id": "ec240617",
   "metadata": {},
   "outputs": [],
   "source": []
  }
 ],
 "metadata": {
  "kernelspec": {
   "display_name": "Python 3 (ipykernel)",
   "language": "python",
   "name": "python3"
  },
  "language_info": {
   "codemirror_mode": {
    "name": "ipython",
    "version": 3
   },
   "file_extension": ".py",
   "mimetype": "text/x-python",
   "name": "python",
   "nbconvert_exporter": "python",
   "pygments_lexer": "ipython3",
   "version": "3.9.13"
  }
 },
 "nbformat": 4,
 "nbformat_minor": 5
}
