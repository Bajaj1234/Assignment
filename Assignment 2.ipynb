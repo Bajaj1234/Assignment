{
 "cells": [
  {
   "cell_type": "code",
   "execution_count": 2,
   "id": "931c03b3",
   "metadata": {},
   "outputs": [],
   "source": [
    "#Write a Python program to convert kilometers to miles?"
   ]
  },
  {
   "cell_type": "code",
   "execution_count": 4,
   "id": "8e667a0c",
   "metadata": {},
   "outputs": [
    {
     "data": {
      "text/plain": [
       "3.106855"
      ]
     },
     "execution_count": 4,
     "metadata": {},
     "output_type": "execute_result"
    }
   ],
   "source": [
    "Distance_Km = 5\n",
    "Distance_mile = Distance_Km*0.621371\n",
    "Distance_mile"
   ]
  },
  {
   "cell_type": "code",
   "execution_count": 6,
   "id": "73c6105f",
   "metadata": {},
   "outputs": [],
   "source": [
    "#Write a Python program to convert Celsius to Fahrenheit?"
   ]
  },
  {
   "cell_type": "code",
   "execution_count": 8,
   "id": "8f0de8c2",
   "metadata": {},
   "outputs": [
    {
     "data": {
      "text/plain": [
       "2.51875"
      ]
     },
     "execution_count": 8,
     "metadata": {},
     "output_type": "execute_result"
    }
   ],
   "source": [
    "Temp_c =27\n",
    "Temp_F = ((Temp_c*9/5)+32)/32\n",
    "Temp_F"
   ]
  },
  {
   "cell_type": "code",
   "execution_count": 9,
   "id": "52e0e71f",
   "metadata": {},
   "outputs": [],
   "source": [
    "#Write a Python program to display calendar?"
   ]
  },
  {
   "cell_type": "code",
   "execution_count": 10,
   "id": "6454fe45",
   "metadata": {},
   "outputs": [
    {
     "name": "stdout",
     "output_type": "stream",
     "text": [
      "Mention year :2000\n",
      "Mention month  :12\n",
      "   December 2000\n",
      "Mo Tu We Th Fr Sa Su\n",
      "             1  2  3\n",
      " 4  5  6  7  8  9 10\n",
      "11 12 13 14 15 16 17\n",
      "18 19 20 21 22 23 24\n",
      "25 26 27 28 29 30 31\n",
      "\n"
     ]
    }
   ],
   "source": [
    "import calendar\n",
    "yy = int(input(\"Mention year :\"))\n",
    "mm = int(input(\"Mention month  :\"))\n",
    "print(calendar.month(yy,mm))"
   ]
  },
  {
   "cell_type": "code",
   "execution_count": 11,
   "id": "506eac44",
   "metadata": {},
   "outputs": [],
   "source": [
    "#Write a Python program to solve quadratic equation?"
   ]
  },
  {
   "cell_type": "code",
   "execution_count": 16,
   "id": "a1ee5046",
   "metadata": {},
   "outputs": [
    {
     "name": "stdout",
     "output_type": "stream",
     "text": [
      "Cof. of X2 :12\n",
      "Cof. of X :1212\n",
      "Constant12\n",
      "Roots of quadratic eqution : -0.009901960879498498 -100.9900980391205\n"
     ]
    }
   ],
   "source": [
    "a = float(input(\"Cof. of X2 :\"))\n",
    "b= float(input(\"Cof. of X :\"))\n",
    "c = float(input(\"Constant\"))\n",
    "x1 = (-b+(b*b-4*a*c)**(1/2))/(2*a)\n",
    "x2 = (-b-(b*b-4*a*c)**(1/2))/(2*a)\n",
    "print(\"Roots of quadratic eqution :\",x1,x2)"
   ]
  },
  {
   "cell_type": "code",
   "execution_count": 17,
   "id": "1ec01387",
   "metadata": {},
   "outputs": [],
   "source": [
    "# Write a Python program to swap two variables without temp variable?"
   ]
  },
  {
   "cell_type": "code",
   "execution_count": 19,
   "id": "a80b8ace",
   "metadata": {},
   "outputs": [
    {
     "name": "stdout",
     "output_type": "stream",
     "text": [
      "Values after swapping : 30 20\n"
     ]
    }
   ],
   "source": [
    "a=10\n",
    "b=20\n",
    "a = a+b\n",
    "b= a-b\n",
    "b= a-b\n",
    "print(\"Values after swapping :\",a,b)"
   ]
  },
  {
   "cell_type": "code",
   "execution_count": null,
   "id": "18300c94",
   "metadata": {},
   "outputs": [],
   "source": []
  }
 ],
 "metadata": {
  "kernelspec": {
   "display_name": "Python 3 (ipykernel)",
   "language": "python",
   "name": "python3"
  },
  "language_info": {
   "codemirror_mode": {
    "name": "ipython",
    "version": 3
   },
   "file_extension": ".py",
   "mimetype": "text/x-python",
   "name": "python",
   "nbconvert_exporter": "python",
   "pygments_lexer": "ipython3",
   "version": "3.9.13"
  }
 },
 "nbformat": 4,
 "nbformat_minor": 5
}
