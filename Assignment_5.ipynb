{
 "cells": [
  {
   "cell_type": "markdown",
   "id": "47a68b8f",
   "metadata": {},
   "source": [
    "Write a Python Program to Find LCM?"
   ]
  },
  {
   "cell_type": "code",
   "execution_count": 30,
   "id": "09381ae2",
   "metadata": {},
   "outputs": [],
   "source": [
    "def lcm (a,b):\n",
    "    i=1\n",
    "    l=[]\n",
    "    for i in range (1, max(a,b)+1):\n",
    "        if (a%i==0) and (b%i==0):\n",
    "            l.append(i)\n",
    "    return a*b//(max(l))"
   ]
  },
  {
   "cell_type": "code",
   "execution_count": 31,
   "id": "f859cae2",
   "metadata": {},
   "outputs": [
    {
     "data": {
      "text/plain": [
       "11100"
      ]
     },
     "execution_count": 31,
     "metadata": {},
     "output_type": "execute_result"
    }
   ],
   "source": [
    "lcm(100,222)\n"
   ]
  },
  {
   "cell_type": "code",
   "execution_count": 32,
   "id": "849c70df",
   "metadata": {},
   "outputs": [],
   "source": [
    "def find_lcm(*args):\n",
    "    args=list(args)\n",
    "    if len(args)<2:\n",
    "        print(\"LCM is not possible\")\n",
    "    result =args[0]\n",
    "    for i in range (1, len(args)):\n",
    "        result =lcm(result , args[i])\n",
    "    return(result)\n",
    "    "
   ]
  },
  {
   "cell_type": "code",
   "execution_count": 34,
   "id": "54cd9c00",
   "metadata": {},
   "outputs": [
    {
     "data": {
      "text/plain": [
       "4638463896"
      ]
     },
     "execution_count": 34,
     "metadata": {},
     "output_type": "execute_result"
    }
   ],
   "source": [
    "find_lcm(2,3,4,4,4,4,4,8,386538658)"
   ]
  },
  {
   "cell_type": "markdown",
   "id": "01cdefa9",
   "metadata": {},
   "source": [
    "Write a Python Program to Find HCF?"
   ]
  },
  {
   "cell_type": "code",
   "execution_count": 12,
   "id": "2a5d55d1",
   "metadata": {},
   "outputs": [],
   "source": [
    "def hcm(*args):\n",
    "    args=list(args)\n",
    "    hcm=1\n",
    "    \n",
    "    for j in range (2,max(args)+1):\n",
    "        k=1\n",
    "        for i in args:\n",
    "            k=k and (i%j==0)\n",
    "        while(k):\n",
    "            for i in range(len(args)):\n",
    "                args[i]=args[i]/j\n",
    "            for i in args:\n",
    "                k=k and (i%j==0)\n",
    "            hcm = hcm *j\n",
    "    return(hcm)\n",
    "            \n",
    "                "
   ]
  },
  {
   "cell_type": "code",
   "execution_count": 13,
   "id": "7db098a7",
   "metadata": {},
   "outputs": [
    {
     "data": {
      "text/plain": [
       "2"
      ]
     },
     "execution_count": 13,
     "metadata": {},
     "output_type": "execute_result"
    }
   ],
   "source": [
    "hcm(2,2)"
   ]
  },
  {
   "cell_type": "markdown",
   "id": "915a35bf",
   "metadata": {},
   "source": [
    "Write a Python Program to Convert Decimal to Binary, Octal and Hexadecimal?"
   ]
  },
  {
   "cell_type": "code",
   "execution_count": 23,
   "id": "ddb3990c",
   "metadata": {},
   "outputs": [],
   "source": [
    "def convert (a):\n",
    "    \n",
    "    Bin = bin(a)\n",
    "    Oct = oct(a)\n",
    "    hexa = hex(a)\n",
    "    return(Bin , Oct , hexa)"
   ]
  },
  {
   "cell_type": "code",
   "execution_count": 24,
   "id": "53fc2113",
   "metadata": {},
   "outputs": [
    {
     "data": {
      "text/plain": [
       "('0b1010', '0o12', '0xa')"
      ]
     },
     "execution_count": 24,
     "metadata": {},
     "output_type": "execute_result"
    }
   ],
   "source": [
    "convert(10)"
   ]
  },
  {
   "cell_type": "markdown",
   "id": "f5a97a4a",
   "metadata": {},
   "source": [
    "Write a Python Program To Find ASCII value of a character?"
   ]
  },
  {
   "cell_type": "code",
   "execution_count": 28,
   "id": "a64c492e",
   "metadata": {},
   "outputs": [],
   "source": [
    "def ascii_value (a):\n",
    "    as_value = ord(a)\n",
    "    return(as_value)"
   ]
  },
  {
   "cell_type": "code",
   "execution_count": 29,
   "id": "169fbeb8",
   "metadata": {},
   "outputs": [
    {
     "data": {
      "text/plain": [
       "97"
      ]
     },
     "execution_count": 29,
     "metadata": {},
     "output_type": "execute_result"
    }
   ],
   "source": [
    "ascii_value('a')"
   ]
  },
  {
   "cell_type": "markdown",
   "id": "ab673c41",
   "metadata": {},
   "source": [
    "Write a Python Program to Make a Simple Calculator with 4 basic mathematical operations?"
   ]
  },
  {
   "cell_type": "code",
   "execution_count": 30,
   "id": "f0312614",
   "metadata": {},
   "outputs": [],
   "source": [
    "def add(x,y):\n",
    "    return (x+y)\n",
    "def sub(x,y):\n",
    "    return(x-y)\n",
    "def mult(x,y):\n",
    "    return (x*y)\n",
    "def div(x,y):\n",
    "    if y!=0:\n",
    "        return x//y\n",
    "    else:\n",
    "        print('Division is not possible')\n"
   ]
  },
  {
   "cell_type": "code",
   "execution_count": 33,
   "id": "a7f01b39",
   "metadata": {},
   "outputs": [],
   "source": [
    "def calculator (x,y):\n",
    "    add_1 = add(x,y)\n",
    "    sub_1 = sub(x,y)\n",
    "    mult_1 = mult(x,y)\n",
    "    div_1 = div(x,y)\n",
    "    return (add_1, sub_1, mult_1 , div_1)"
   ]
  },
  {
   "cell_type": "code",
   "execution_count": 34,
   "id": "2fef1b9b",
   "metadata": {},
   "outputs": [
    {
     "data": {
      "text/plain": [
       "(12, 8, 20, 5)"
      ]
     },
     "execution_count": 34,
     "metadata": {},
     "output_type": "execute_result"
    }
   ],
   "source": [
    "calculator(10,2)"
   ]
  },
  {
   "cell_type": "code",
   "execution_count": null,
   "id": "247fa487",
   "metadata": {},
   "outputs": [],
   "source": []
  }
 ],
 "metadata": {
  "kernelspec": {
   "display_name": "Python 3 (ipykernel)",
   "language": "python",
   "name": "python3"
  },
  "language_info": {
   "codemirror_mode": {
    "name": "ipython",
    "version": 3
   },
   "file_extension": ".py",
   "mimetype": "text/x-python",
   "name": "python",
   "nbconvert_exporter": "python",
   "pygments_lexer": "ipython3",
   "version": "3.9.13"
  }
 },
 "nbformat": 4,
 "nbformat_minor": 5
}
