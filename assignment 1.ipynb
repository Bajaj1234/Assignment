{
 "cells": [
  {
   "cell_type": "code",
   "execution_count": 1,
   "id": "e3bc1856",
   "metadata": {},
   "outputs": [],
   "source": [
    "# Write a Python program to print &quot;Hello Python\""
   ]
  },
  {
   "cell_type": "code",
   "execution_count": 14,
   "id": "b6d0a412",
   "metadata": {},
   "outputs": [
    {
     "name": "stdout",
     "output_type": "stream",
     "text": [
      "Hello Python\n"
     ]
    }
   ],
   "source": [
    "print(\"Hello Python\")"
   ]
  },
  {
   "cell_type": "code",
   "execution_count": 15,
   "id": "9853ec21",
   "metadata": {},
   "outputs": [],
   "source": [
    "#Write a Python program to do arithmetical operations addition and division.?"
   ]
  },
  {
   "cell_type": "code",
   "execution_count": 17,
   "id": "1cc0bd97",
   "metadata": {},
   "outputs": [
    {
     "data": {
      "text/plain": [
       "15"
      ]
     },
     "execution_count": 17,
     "metadata": {},
     "output_type": "execute_result"
    }
   ],
   "source": [
    "a=5\n",
    "b=10\n",
    "c=a+b\n",
    "c"
   ]
  },
  {
   "cell_type": "code",
   "execution_count": 19,
   "id": "9ca82231",
   "metadata": {},
   "outputs": [],
   "source": [
    "#Write a Python program to find the area of a triangle?"
   ]
  },
  {
   "cell_type": "code",
   "execution_count": 22,
   "id": "c39e6b2f",
   "metadata": {},
   "outputs": [
    {
     "data": {
      "text/plain": [
       "2.0"
      ]
     },
     "execution_count": 22,
     "metadata": {},
     "output_type": "execute_result"
    }
   ],
   "source": [
    "base=2\n",
    "height=2\n",
    "area = 0.5*base*height\n",
    "area"
   ]
  },
  {
   "cell_type": "code",
   "execution_count": 23,
   "id": "b848be10",
   "metadata": {},
   "outputs": [],
   "source": [
    "# Write a Python program to swap two variables?"
   ]
  },
  {
   "cell_type": "code",
   "execution_count": 24,
   "id": "2a1ff73a",
   "metadata": {},
   "outputs": [
    {
     "name": "stdout",
     "output_type": "stream",
     "text": [
      "Value after swap a= 20 b= 20\n"
     ]
    }
   ],
   "source": [
    "a=10\n",
    "b=20\n",
    "temp = a\n",
    "a=b\n",
    "b=a\n",
    "print(\"Value after swap a=\",a,\"b=\",b )"
   ]
  },
  {
   "cell_type": "code",
   "execution_count": 26,
   "id": "2acb1d4e",
   "metadata": {},
   "outputs": [
    {
     "data": {
      "text/plain": [
       "0.5369220364250326"
      ]
     },
     "execution_count": 26,
     "metadata": {},
     "output_type": "execute_result"
    }
   ],
   "source": [
    "import random\n",
    "a= random.random()\n",
    "a"
   ]
  },
  {
   "cell_type": "code",
   "execution_count": null,
   "id": "ac14824d",
   "metadata": {},
   "outputs": [],
   "source": []
  }
 ],
 "metadata": {
  "kernelspec": {
   "display_name": "Python 3 (ipykernel)",
   "language": "python",
   "name": "python3"
  },
  "language_info": {
   "codemirror_mode": {
    "name": "ipython",
    "version": 3
   },
   "file_extension": ".py",
   "mimetype": "text/x-python",
   "name": "python",
   "nbconvert_exporter": "python",
   "pygments_lexer": "ipython3",
   "version": "3.9.13"
  }
 },
 "nbformat": 4,
 "nbformat_minor": 5
}
