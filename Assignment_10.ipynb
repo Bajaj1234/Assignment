{
 "cells": [
  {
   "cell_type": "markdown",
   "id": "769c716e",
   "metadata": {},
   "source": [
    "1. Write a Python program to find sum of elements in list?\n",
    "2. Write a Python program to Multiply all numbers in the list?\n",
    "3. Write a Python program to find smallest number in a list?\n",
    "4. Write a Python program to find largest number in a list?\n",
    "5. Write a Python program to find second largest number in a list?\n",
    "6. Write a Python program to find N largest elements from a list?\n",
    "7. Write a Python program to print even numbers in a list?\n",
    "8. Write a Python program to print odd numbers in a List?\n",
    "9. Write a Python program to Remove empty List from List?\n",
    "10. Write a Python program to Cloning or Copying a list?\n",
    "11. Write a Python program to Count occurrences of an element in a list?"
   ]
  },
  {
   "cell_type": "markdown",
   "id": "2c4de7c8",
   "metadata": {},
   "source": [
    "Write a Python program to find sum of elements in list?"
   ]
  },
  {
   "cell_type": "code",
   "execution_count": 1,
   "id": "eb95b648",
   "metadata": {},
   "outputs": [
    {
     "data": {
      "text/plain": [
       "32552"
      ]
     },
     "execution_count": 1,
     "metadata": {},
     "output_type": "execute_result"
    }
   ],
   "source": [
    "def addition (l):\n",
    "    sum=0\n",
    "    for i in l:\n",
    "        sum=sum+i\n",
    "    return(sum)\n",
    "addition([23,2,32,3,23,2,3,23,2,3,23,23,2,3,2,32,3,23,2,32323])"
   ]
  },
  {
   "cell_type": "markdown",
   "id": "401f0d28",
   "metadata": {},
   "source": [
    "Write a Python program to Multiply all numbers in the list?"
   ]
  },
  {
   "cell_type": "code",
   "execution_count": 4,
   "id": "f7f88003",
   "metadata": {},
   "outputs": [
    {
     "data": {
      "text/plain": [
       "75440263847215104"
      ]
     },
     "execution_count": 4,
     "metadata": {},
     "output_type": "execute_result"
    }
   ],
   "source": [
    "def multiplication (l):\n",
    "    sum=1\n",
    "    for i in l:\n",
    "        sum=sum*i\n",
    "    return(sum)\n",
    "multiplication([23,2,32,3,23,2,3,23,2,3,23,23,2,3,2,32,3,23,2,32])"
   ]
  },
  {
   "cell_type": "markdown",
   "id": "aecc6288",
   "metadata": {},
   "source": [
    "Write a Python program to find smallest number in a list?"
   ]
  },
  {
   "cell_type": "code",
   "execution_count": 8,
   "id": "090adbfa",
   "metadata": {},
   "outputs": [],
   "source": [
    "def smallest(l):\n",
    "    i=l[0]\n",
    "    for j in range(1,len(l)):\n",
    "        if (i<l[j]):\n",
    "            i=i\n",
    "        elif(l[j]<i):\n",
    "            i=l[j]\n",
    "    return (i)"
   ]
  },
  {
   "cell_type": "code",
   "execution_count": 9,
   "id": "a782da78",
   "metadata": {},
   "outputs": [
    {
     "data": {
      "text/plain": [
       "2"
      ]
     },
     "execution_count": 9,
     "metadata": {},
     "output_type": "execute_result"
    }
   ],
   "source": [
    "smallest([23,23,2,3,2,32,3,23,2,3,23,23,23,23,2,323,23,23,23,23,23,3232323])"
   ]
  },
  {
   "cell_type": "markdown",
   "id": "9bceb271",
   "metadata": {},
   "source": [
    "Write a Python program to find largest number in a list?"
   ]
  },
  {
   "cell_type": "code",
   "execution_count": 16,
   "id": "e7c84494",
   "metadata": {},
   "outputs": [],
   "source": [
    "def largest(l):\n",
    "    i=l[0]\n",
    "    for j in range(1,len(l)):\n",
    "        if (i>l[j]):\n",
    "            i=i\n",
    "        elif(l[j]>i):\n",
    "            i=l[j]\n",
    "    return (i)"
   ]
  },
  {
   "cell_type": "code",
   "execution_count": 17,
   "id": "3bd72347",
   "metadata": {},
   "outputs": [
    {
     "data": {
      "text/plain": [
       "3232323"
      ]
     },
     "execution_count": 17,
     "metadata": {},
     "output_type": "execute_result"
    }
   ],
   "source": [
    "largest([23,23,2,3,2,32,3,23,2,3,23,23,23,23,2,323,23,23,23,23,23,3232323])"
   ]
  },
  {
   "cell_type": "markdown",
   "id": "03fee5c8",
   "metadata": {},
   "source": [
    "Write a Python program to find second largest number in a list?"
   ]
  },
  {
   "cell_type": "code",
   "execution_count": 31,
   "id": "6bff79a1",
   "metadata": {},
   "outputs": [],
   "source": [
    "l=[23,23,23,4.3,4,55,667,8,7,87,98,9,667,656,65,64,53,53,4,42,4]\n",
    "sort_number= sorted(set(l),reverse=True)"
   ]
  },
  {
   "cell_type": "code",
   "execution_count": 32,
   "id": "80c598b8",
   "metadata": {},
   "outputs": [
    {
     "data": {
      "text/plain": [
       "[667, 656, 98, 87, 65, 64, 55, 53, 42, 23, 9, 8, 7, 4.3, 4]"
      ]
     },
     "execution_count": 32,
     "metadata": {},
     "output_type": "execute_result"
    }
   ],
   "source": [
    "sort_number"
   ]
  },
  {
   "cell_type": "code",
   "execution_count": 33,
   "id": "7c01b428",
   "metadata": {},
   "outputs": [
    {
     "data": {
      "text/plain": [
       "656"
      ]
     },
     "execution_count": 33,
     "metadata": {},
     "output_type": "execute_result"
    }
   ],
   "source": [
    "sort_number[1]"
   ]
  },
  {
   "cell_type": "markdown",
   "id": "18958827",
   "metadata": {},
   "source": [
    "Write a Python program to find N largest elements from a list?"
   ]
  },
  {
   "cell_type": "code",
   "execution_count": 35,
   "id": "1da8b38d",
   "metadata": {},
   "outputs": [
    {
     "data": {
      "text/plain": [
       "[667, 656, 98, 87]"
      ]
     },
     "execution_count": 35,
     "metadata": {},
     "output_type": "execute_result"
    }
   ],
   "source": [
    "sort_number[0:4]"
   ]
  },
  {
   "cell_type": "markdown",
   "id": "506942ad",
   "metadata": {},
   "source": [
    "Write a Python program to print even numbers in a list?"
   ]
  },
  {
   "cell_type": "code",
   "execution_count": 38,
   "id": "0ae10e0c",
   "metadata": {},
   "outputs": [
    {
     "data": {
      "text/plain": [
       "[12, 2, 12, 22, 2, 12, 12, 12]"
      ]
     },
     "execution_count": 38,
     "metadata": {},
     "output_type": "execute_result"
    }
   ],
   "source": [
    "l=[12,121,2,12,1,21,1,21,22,1,21,2,12,12,12]\n",
    "even =[]\n",
    "for i in l:\n",
    "    if i%2==0:\n",
    "        even.append(i)\n",
    "even"
   ]
  },
  {
   "cell_type": "markdown",
   "id": "3868c696",
   "metadata": {},
   "source": [
    "Write a Python program to print odd numbers in a List?"
   ]
  },
  {
   "cell_type": "code",
   "execution_count": 39,
   "id": "13a3fb79",
   "metadata": {},
   "outputs": [
    {
     "data": {
      "text/plain": [
       "[121, 1, 21, 1, 21, 1, 21]"
      ]
     },
     "execution_count": 39,
     "metadata": {},
     "output_type": "execute_result"
    }
   ],
   "source": [
    "l=[12,121,2,12,1,21,1,21,22,1,21,2,12,12,12]\n",
    "odd =[]\n",
    "for i in l:\n",
    "    if i%2!=0:\n",
    "        odd.append(i)\n",
    "odd"
   ]
  },
  {
   "cell_type": "markdown",
   "id": "399f114d",
   "metadata": {},
   "source": [
    "Write a Python program to Remove empty List from List?"
   ]
  },
  {
   "cell_type": "code",
   "execution_count": 40,
   "id": "1525424b",
   "metadata": {},
   "outputs": [],
   "source": [
    "l=[[3223],[],[2323],23,32,23,3,223,[232],[]]"
   ]
  },
  {
   "cell_type": "code",
   "execution_count": 44,
   "id": "70cd1995",
   "metadata": {},
   "outputs": [],
   "source": [
    "for i in l:\n",
    "    if type(i)==list:\n",
    "        if i==[]:\n",
    "            l.remove(i)"
   ]
  },
  {
   "cell_type": "code",
   "execution_count": 45,
   "id": "37730e7a",
   "metadata": {},
   "outputs": [
    {
     "data": {
      "text/plain": [
       "[[3223], [2323], 23, 32, 23, 3, 223, [232]]"
      ]
     },
     "execution_count": 45,
     "metadata": {},
     "output_type": "execute_result"
    }
   ],
   "source": [
    "l"
   ]
  },
  {
   "cell_type": "markdown",
   "id": "e6f296c7",
   "metadata": {},
   "source": [
    "Write a Python program to Cloning or Copying a list?"
   ]
  },
  {
   "cell_type": "code",
   "execution_count": 46,
   "id": "87b5c41d",
   "metadata": {},
   "outputs": [],
   "source": [
    "original_list = [23,23,2,32,32,3,23,2,3,23,232323]"
   ]
  },
  {
   "cell_type": "code",
   "execution_count": null,
   "id": "9f63bfd0",
   "metadata": {},
   "outputs": [],
   "source": []
  }
 ],
 "metadata": {
  "kernelspec": {
   "display_name": "Python 3 (ipykernel)",
   "language": "python",
   "name": "python3"
  },
  "language_info": {
   "codemirror_mode": {
    "name": "ipython",
    "version": 3
   },
   "file_extension": ".py",
   "mimetype": "text/x-python",
   "name": "python",
   "nbconvert_exporter": "python",
   "pygments_lexer": "ipython3",
   "version": "3.9.13"
  }
 },
 "nbformat": 4,
 "nbformat_minor": 5
}
