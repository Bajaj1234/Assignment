{
 "cells": [
  {
   "cell_type": "markdown",
   "id": "757ac681",
   "metadata": {},
   "source": [
    "1. Write a Python Program to Add Two Matrices?\n",
    "2. Write a Python Program to Multiply Two Matrices?\n",
    "3. Write a Python Program to Transpose a Matrix?\n",
    "4. Write a Python Program to Sort Words in Alphabetic Order?\n",
    "5. Write a Python Program to Remove Punctuation From a String?"
   ]
  },
  {
   "cell_type": "markdown",
   "id": "cfb3df94",
   "metadata": {},
   "source": [
    "Write a Python Program to Add Two Matrices?"
   ]
  },
  {
   "cell_type": "code",
   "execution_count": 1,
   "id": "2910fc52",
   "metadata": {},
   "outputs": [],
   "source": [
    "import numpy as np"
   ]
  },
  {
   "cell_type": "code",
   "execution_count": 2,
   "id": "44770e40",
   "metadata": {},
   "outputs": [],
   "source": [
    "a=np.array([[1,2,3],[23,23,23],[12,12,121]])"
   ]
  },
  {
   "cell_type": "code",
   "execution_count": 3,
   "id": "e6826029",
   "metadata": {},
   "outputs": [],
   "source": [
    "b=np.array([[12,23,233],[2323,2323,2323],[12,12,12]])\n"
   ]
  },
  {
   "cell_type": "code",
   "execution_count": 4,
   "id": "af9ba1a4",
   "metadata": {},
   "outputs": [],
   "source": [
    "a\n",
    "c= np.zeros((3,3))"
   ]
  },
  {
   "cell_type": "code",
   "execution_count": 5,
   "id": "7c5512e4",
   "metadata": {},
   "outputs": [],
   "source": [
    "for i in range(len(a)):\n",
    "    for j in range(len(a[0])):\n",
    "        c[i][j]=a[i][j]+b[i][j]"
   ]
  },
  {
   "cell_type": "code",
   "execution_count": 6,
   "id": "32517b28",
   "metadata": {},
   "outputs": [
    {
     "data": {
      "text/plain": [
       "array([[  13.,   25.,  236.],\n",
       "       [2346., 2346., 2346.],\n",
       "       [  24.,   24.,  133.]])"
      ]
     },
     "execution_count": 6,
     "metadata": {},
     "output_type": "execute_result"
    }
   ],
   "source": [
    "c"
   ]
  },
  {
   "cell_type": "markdown",
   "id": "abf1b038",
   "metadata": {},
   "source": [
    "Write a Python Program to Multiply Two Matrices?"
   ]
  },
  {
   "cell_type": "code",
   "execution_count": null,
   "id": "c2dbabca",
   "metadata": {},
   "outputs": [],
   "source": []
  },
  {
   "cell_type": "code",
   "execution_count": 9,
   "id": "ad4df2d8",
   "metadata": {},
   "outputs": [
    {
     "data": {
      "text/plain": [
       "array([[ 4694., 54234., 32124.],\n",
       "       [ 4694., 54234., 32124.],\n",
       "       [ 4694., 54234., 32124.]])"
      ]
     },
     "execution_count": 9,
     "metadata": {},
     "output_type": "execute_result"
    }
   ],
   "source": [
    "def multipication (a,b):\n",
    "    A= a.shape\n",
    "    B=b.shape\n",
    "    X=np.zeros((A[0],B[1]))\n",
    "    if A[1]==B[0]:\n",
    "        for i in range(A[0]):\n",
    "            for z in range(A[0]):\n",
    "                q=0\n",
    "                for j in range(A[1]):\n",
    "                    q=q+a[z][j]*b[j][z]\n",
    "                X[i][z]=q\n",
    "        return X\n",
    "    else:\n",
    "        print(\"Multiplication is not possible\")\n",
    "multipication(a,b)\n",
    "            "
   ]
  },
  {
   "cell_type": "markdown",
   "id": "1dd32bbf",
   "metadata": {},
   "source": [
    "Write a Python Program to Transpose a Matrix?"
   ]
  },
  {
   "cell_type": "code",
   "execution_count": 12,
   "id": "a452d1fd",
   "metadata": {},
   "outputs": [],
   "source": [
    "a\n",
    "A=a.shape"
   ]
  },
  {
   "cell_type": "code",
   "execution_count": 13,
   "id": "cab841fa",
   "metadata": {},
   "outputs": [],
   "source": [
    "d=np.zeros((A[1],A[0]))"
   ]
  },
  {
   "cell_type": "code",
   "execution_count": 15,
   "id": "9ba42864",
   "metadata": {},
   "outputs": [],
   "source": [
    "for i in range(len(a)):\n",
    "    for j in range(len(a[0])):\n",
    "        d[j][i]=a[i][j]"
   ]
  },
  {
   "cell_type": "code",
   "execution_count": 16,
   "id": "a15b3867",
   "metadata": {},
   "outputs": [
    {
     "data": {
      "text/plain": [
       "array([[  1.,  23.,  12.],\n",
       "       [  2.,  23.,  12.],\n",
       "       [  3.,  23., 121.]])"
      ]
     },
     "execution_count": 16,
     "metadata": {},
     "output_type": "execute_result"
    }
   ],
   "source": [
    "d\n"
   ]
  },
  {
   "cell_type": "code",
   "execution_count": 17,
   "id": "ed7e7281",
   "metadata": {},
   "outputs": [
    {
     "data": {
      "text/plain": [
       "array([[  1,   2,   3],\n",
       "       [ 23,  23,  23],\n",
       "       [ 12,  12, 121]])"
      ]
     },
     "execution_count": 17,
     "metadata": {},
     "output_type": "execute_result"
    }
   ],
   "source": [
    "a"
   ]
  },
  {
   "cell_type": "markdown",
   "id": "d03b7f7b",
   "metadata": {},
   "source": [
    "Write a Python Program to Sort Words in Alphabetic Order?"
   ]
  },
  {
   "cell_type": "code",
   "execution_count": 25,
   "id": "3e0b55bc",
   "metadata": {},
   "outputs": [],
   "source": [
    "s='dfegregegnegnenfirniuehwudwuyg'"
   ]
  },
  {
   "cell_type": "code",
   "execution_count": 26,
   "id": "1bc4582b",
   "metadata": {},
   "outputs": [],
   "source": [
    "s=''.join(sorted(s))"
   ]
  },
  {
   "cell_type": "code",
   "execution_count": 27,
   "id": "8838083d",
   "metadata": {},
   "outputs": [
    {
     "data": {
      "text/plain": [
       "'ddeeeeeeffggggghiinnnnrruuuwwy'"
      ]
     },
     "execution_count": 27,
     "metadata": {},
     "output_type": "execute_result"
    }
   ],
   "source": [
    "s"
   ]
  },
  {
   "cell_type": "markdown",
   "id": "484aaede",
   "metadata": {},
   "source": [
    "Write a Python Program to Remove Punctuation From a String?"
   ]
  },
  {
   "cell_type": "code",
   "execution_count": 28,
   "id": "4a2b95e0",
   "metadata": {},
   "outputs": [],
   "source": [
    "import string"
   ]
  },
  {
   "cell_type": "code",
   "execution_count": 41,
   "id": "d169b9ad",
   "metadata": {},
   "outputs": [],
   "source": [
    "Punctuation_char = set(string.punctuation)"
   ]
  },
  {
   "cell_type": "code",
   "execution_count": 44,
   "id": "9c2c403c",
   "metadata": {},
   "outputs": [],
   "source": [
    "s='ien3i45h89hfoiansxamp,SPald,/,;lkjdsfkgr.,,hgu'\n",
    "Output = ''.join(i for i in s if i not in Punctuation_char)"
   ]
  },
  {
   "cell_type": "code",
   "execution_count": 45,
   "id": "7c94f08e",
   "metadata": {},
   "outputs": [
    {
     "data": {
      "text/plain": [
       "'ien3i45h89hfoiansxampSPaldlkjdsfkgrhgu'"
      ]
     },
     "execution_count": 45,
     "metadata": {},
     "output_type": "execute_result"
    }
   ],
   "source": [
    "Output"
   ]
  },
  {
   "cell_type": "code",
   "execution_count": null,
   "id": "d418ce46",
   "metadata": {},
   "outputs": [],
   "source": []
  }
 ],
 "metadata": {
  "kernelspec": {
   "display_name": "Python 3 (ipykernel)",
   "language": "python",
   "name": "python3"
  },
  "language_info": {
   "codemirror_mode": {
    "name": "ipython",
    "version": 3
   },
   "file_extension": ".py",
   "mimetype": "text/x-python",
   "name": "python",
   "nbconvert_exporter": "python",
   "pygments_lexer": "ipython3",
   "version": "3.9.13"
  }
 },
 "nbformat": 4,
 "nbformat_minor": 5
}
