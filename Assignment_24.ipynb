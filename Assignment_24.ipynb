{
 "cells": [
  {
   "cell_type": "markdown",
   "id": "8404a679",
   "metadata": {},
   "source": [
    "Question1\n",
    "Create a function that takes an integer and returns a list from 1 to the given number, where:\n",
    "1. If the number can be divided evenly by 4, amplify it by 10 (i.e. return 10 times the\n",
    "number).\n",
    "2. If the number cannot be divided evenly by 4, simply return the number.\n",
    "Examples\n",
    "amplify(4) ➞ [1, 2, 3, 40]\n",
    "amplify(3) ➞ [1, 2, 3]\n",
    "amplify(25) ➞ [1, 2, 3, 40, 5, 6, 7, 80, 9, 10, 11, 120, 13, 14, 15, 160,\n",
    "17, 18, 19, 200, 21, 22, 23, 240, 25]\n",
    "Notes\n",
    " The given integer will always be equal to or greater than 1.\n",
    " Include the number (see example above).\n",
    " To perform this problem with its intended purpose, try doing it with list\n",
    "comprehensions."
   ]
  },
  {
   "cell_type": "code",
   "execution_count": 5,
   "id": "0a72f2a8",
   "metadata": {},
   "outputs": [],
   "source": [
    "def amplify (a,b):\n",
    "    l=[]\n",
    "    for i in range(1,a+1):\n",
    "        if (i%b==0):\n",
    "            l.append(i*10)\n",
    "        else :\n",
    "            l.append(i)\n",
    "    return l\n",
    "        "
   ]
  },
  {
   "cell_type": "code",
   "execution_count": 9,
   "id": "ec85ec84",
   "metadata": {},
   "outputs": [
    {
     "data": {
      "text/plain": [
       "[1, 2, 3, 4, 5, 6, 7, 8, 9, 10]"
      ]
     },
     "execution_count": 9,
     "metadata": {},
     "output_type": "execute_result"
    }
   ],
   "source": [
    "amplify(10,3434)"
   ]
  },
  {
   "cell_type": "markdown",
   "id": "bf345fbc",
   "metadata": {},
   "source": [
    "Question2\n",
    "Create a function that takes a list of numbers and return the number that&#39;s unique.\n",
    "Examples\n",
    "unique([3, 3, 3, 7, 3, 3]) ➞ 7\n",
    "unique([0, 0, 0.77, 0, 0]) ➞ 0.77\n",
    "unique([0, 1, 1, 1, 1, 1, 1, 1]) ➞ 0\n",
    "Notes\n",
    "Test cases will always"
   ]
  },
  {
   "cell_type": "code",
   "execution_count": 13,
   "id": "72f61afb",
   "metadata": {},
   "outputs": [],
   "source": [
    "def unique(lst):\n",
    "\n",
    "    count_dict = {}\n",
    "    for num in lst:\n",
    "        if num in count_dict:\n",
    "            count_dict[num] += 1\n",
    "        else:\n",
    "            count_dict[num] = 1\n",
    "\n",
    "    l=[]\n",
    "    for num, count in count_dict.items():\n",
    "        if count == 1:\n",
    "            l.append(num)\n",
    "    return l"
   ]
  },
  {
   "cell_type": "code",
   "execution_count": 14,
   "id": "844aa4b2",
   "metadata": {},
   "outputs": [
    {
     "data": {
      "text/plain": [
       "[0, 2]"
      ]
     },
     "execution_count": 14,
     "metadata": {},
     "output_type": "execute_result"
    }
   ],
   "source": [
    "unique([0, 2,1, 1, 1, 1, 1, 1, 1])"
   ]
  },
  {
   "cell_type": "markdown",
   "id": "0c4c1697",
   "metadata": {},
   "source": [
    "Question3\n",
    "Your task is to create a Circle constructor that creates a circle with a radius provided by an\n",
    "argument. The circles constructed must have two getters getArea() (PIr^2) and\n",
    "getPerimeter() (2PI*r) which give both respective areas and perimeter (circumference).\n",
    "\n",
    "For help with this class, I have provided you with a Rectangle constructor which you can use\n",
    "as a base example.\n",
    "Examples\n",
    "circy = Circle(11)\n",
    "circy.getArea()\n",
    "# Should return 380.132711084365\n",
    "circy = Circle(4.44)\n",
    "circy.getPerimeter()\n",
    "# Should return 27.897342763877365\n",
    "Notes\n",
    "Round results up to the nearest integer."
   ]
  },
  {
   "cell_type": "code",
   "execution_count": 18,
   "id": "d9bcb5b4",
   "metadata": {},
   "outputs": [],
   "source": [
    "class circle:\n",
    "    def __init__(self,r):\n",
    "        self.r=r\n",
    "    def area(self):\n",
    "        a=3.14*self.r**2\n",
    "        return a\n",
    "    def perimeter (self):\n",
    "        p=2*3.14*self.r\n",
    "        return p\n",
    "    "
   ]
  },
  {
   "cell_type": "code",
   "execution_count": 19,
   "id": "1e5d063d",
   "metadata": {},
   "outputs": [],
   "source": [
    "c=circle(100)"
   ]
  },
  {
   "cell_type": "code",
   "execution_count": 20,
   "id": "558ba4f3",
   "metadata": {},
   "outputs": [
    {
     "data": {
      "text/plain": [
       "31400.0"
      ]
     },
     "execution_count": 20,
     "metadata": {},
     "output_type": "execute_result"
    }
   ],
   "source": [
    "c.area()"
   ]
  },
  {
   "cell_type": "markdown",
   "id": "b7f5ab26",
   "metadata": {},
   "source": [
    "Question4\n",
    "Create a function that takes a list of strings and return a list, sorted from shortest to longest.\n",
    "Examples\n",
    "sort_by_length([&quot;Google&quot;, &quot;Apple&quot;, &quot;Microsoft&quot;])\n",
    "➞ [&quot;Apple&quot;, &quot;Google&quot;, &quot;Microsoft&quot;]\n",
    "sort_by_length([&quot;Leonardo&quot;, &quot;Michelangelo&quot;, &quot;Raphael&quot;, &quot;Donatello&quot;])\n",
    "➞ [&quot;Raphael&quot;, &quot;Leonardo&quot;, &quot;Donatello&quot;, &quot;Michelangelo&quot;]\n",
    "sort_by_length([&quot;Turing&quot;, &quot;Einstein&quot;, &quot;Jung&quot;])\n",
    "➞ [&quot;Jung&quot;, &quot;Turing&quot;, &quot;Einstein&quot;]\n",
    "Notes\n",
    "All test cases contain lists with strings of different lengths, so you won&#39;t have to deal with\n",
    "multiple strings of the same length."
   ]
  },
  {
   "cell_type": "code",
   "execution_count": 27,
   "id": "b37e97cf",
   "metadata": {},
   "outputs": [],
   "source": [
    "def sort_by_length(a):\n",
    "    return sorted(a,key = lambda x:len(x))"
   ]
  },
  {
   "cell_type": "code",
   "execution_count": 28,
   "id": "3e80d788",
   "metadata": {},
   "outputs": [
    {
     "data": {
      "text/plain": [
       "['Apple', 'Google', 'Microsoft']"
      ]
     },
     "execution_count": 28,
     "metadata": {},
     "output_type": "execute_result"
    }
   ],
   "source": [
    "sort_by_length([\"Google\", \"Apple\", \"Microsoft\"])"
   ]
  },
  {
   "cell_type": "code",
   "execution_count": 29,
   "id": "6ef11d30",
   "metadata": {},
   "outputs": [
    {
     "data": {
      "text/plain": [
       "['Jung', 'Turing', 'Einstein']"
      ]
     },
     "execution_count": 29,
     "metadata": {},
     "output_type": "execute_result"
    }
   ],
   "source": [
    "sort_by_length([\"Turing\", \"Einstein\", \"Jung\"]) "
   ]
  },
  {
   "cell_type": "markdown",
   "id": "d0c7ec6f",
   "metadata": {},
   "source": [
    "Question5\n",
    "Create a function that validates whether three given integers form a Pythagorean triplet. The\n",
    "sum of the squares of the two smallest integers must equal the square of the largest number to\n",
    "be validated.\n",
    "\n",
    "Examples\n",
    "is_triplet(3, 4, 5) ➞ True\n",
    "# 3² + 4² = 25\n",
    "# 5² = 25\n",
    "is_triplet(13, 5, 12) ➞ True\n",
    "# 5² + 12² = 169\n",
    "# 13² = 169\n",
    "is_triplet(1, 2, 3) ➞ False\n",
    "# 1² + 2² = 5\n",
    "# 3² = 9\n",
    "Notes\n",
    "Numbers may not be given in a sorted order."
   ]
  },
  {
   "cell_type": "code",
   "execution_count": 30,
   "id": "27cf35a2",
   "metadata": {},
   "outputs": [],
   "source": [
    "def is_triplet(a,b,c):\n",
    "    if(a**2 + b**2 == c**2):\n",
    "        return True\n",
    "    else:\n",
    "        return False"
   ]
  },
  {
   "cell_type": "code",
   "execution_count": 31,
   "id": "2f638871",
   "metadata": {},
   "outputs": [
    {
     "data": {
      "text/plain": [
       "True"
      ]
     },
     "execution_count": 31,
     "metadata": {},
     "output_type": "execute_result"
    }
   ],
   "source": [
    "is_triplet(3,4,5)"
   ]
  },
  {
   "cell_type": "code",
   "execution_count": null,
   "id": "78451e0d",
   "metadata": {},
   "outputs": [],
   "source": []
  }
 ],
 "metadata": {
  "kernelspec": {
   "display_name": "Python 3 (ipykernel)",
   "language": "python",
   "name": "python3"
  },
  "language_info": {
   "codemirror_mode": {
    "name": "ipython",
    "version": 3
   },
   "file_extension": ".py",
   "mimetype": "text/x-python",
   "name": "python",
   "nbconvert_exporter": "python",
   "pygments_lexer": "ipython3",
   "version": "3.9.13"
  }
 },
 "nbformat": 4,
 "nbformat_minor": 5
}
