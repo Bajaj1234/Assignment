{
 "cells": [
  {
   "cell_type": "markdown",
   "id": "6e806fe3",
   "metadata": {},
   "source": [
    "Question 1:\n",
    "Write a program that calculates and prints the value according to the given formula:\n",
    "Q = Square root of [(2 * C * D)/H]\n",
    "Following are the fixed values of C and H:\n",
    "C is 50. H is 30.\n",
    "D is the variable whose values should be input to your program in a comma-separated\n",
    "sequence.\n",
    "Example\n",
    "Let us assume the following comma separated input sequence is given to the program:\n",
    "100,150,180\n",
    "The output of the program should be:\n",
    "18,22,24"
   ]
  },
  {
   "cell_type": "code",
   "execution_count": 5,
   "id": "f6a08a9b",
   "metadata": {},
   "outputs": [],
   "source": [
    "def formula (D):\n",
    "    try:\n",
    "        D=list(D)\n",
    "        l=[]\n",
    "        c=50\n",
    "        h=30\n",
    "        for i in D:\n",
    "            j = ((2*c*i)//h)**(1/2)\n",
    "            j = int(j)\n",
    "            l.append(j)\n",
    "    except Exception as e:\n",
    "        print(e)\n",
    "    return (l)"
   ]
  },
  {
   "cell_type": "code",
   "execution_count": 6,
   "id": "7fd000c9",
   "metadata": {},
   "outputs": [
    {
     "data": {
      "text/plain": [
       "[18, 22, 24]"
      ]
     },
     "execution_count": 6,
     "metadata": {},
     "output_type": "execute_result"
    }
   ],
   "source": [
    "formula ([100, 150,180])"
   ]
  },
  {
   "cell_type": "markdown",
   "id": "54eea1b3",
   "metadata": {},
   "source": [
    "Question 2:\n",
    "Write a program which takes 2 digits, X,Y as input and generates a 2-dimensional array. The\n",
    "element value in the i-th row and j-th column of the array should be i*j.\n",
    "Note: i=0,1.., X-1; j=0,1,¡Y-1.\n",
    "Example\n",
    "Suppose the following inputs are given to the program:\n",
    "3,5\n",
    "Then, the output of the program should be:\n",
    "[[0, 0, 0, 0, 0], [0, 1, 2, 3, 4], [0, 2, 4, 6, 8]]"
   ]
  },
  {
   "cell_type": "code",
   "execution_count": 13,
   "id": "58eda4e5",
   "metadata": {},
   "outputs": [],
   "source": [
    "import numpy as np\n",
    "def generate_array():\n",
    "    try:\n",
    "        a=int(input(\"Enter number of rows\"))\n",
    "        b=int(input(\"Enter number of Columns\"))\n",
    "        Array = np.zeros((a,b))\n",
    "        for i in range(a):\n",
    "            for j in range(b):\n",
    "                Array[i][j]=int(i*j)\n",
    "        return Array\n",
    "    except Exception as e:\n",
    "        print(e)\n",
    "        "
   ]
  },
  {
   "cell_type": "code",
   "execution_count": 14,
   "id": "4a2a9969",
   "metadata": {},
   "outputs": [
    {
     "name": "stdout",
     "output_type": "stream",
     "text": [
      "Enter number of rows4\n",
      "Enter number of Columns4\n"
     ]
    },
    {
     "data": {
      "text/plain": [
       "array([[0., 0., 0., 0.],\n",
       "       [0., 1., 2., 3.],\n",
       "       [0., 2., 4., 6.],\n",
       "       [0., 3., 6., 9.]])"
      ]
     },
     "execution_count": 14,
     "metadata": {},
     "output_type": "execute_result"
    }
   ],
   "source": [
    "generate_array()"
   ]
  },
  {
   "cell_type": "markdown",
   "id": "00a90f10",
   "metadata": {},
   "source": [
    "Write a program that accepts a comma separated sequence of words as input and prints the\n",
    "words in a comma-separated sequence after sorting them alphabetically.\n",
    "Suppose the following input is supplied to the program:\n",
    "without,hello,bag,world\n",
    "Then, the output should be:\n",
    "bag,hello,without,world"
   ]
  },
  {
   "cell_type": "code",
   "execution_count": 16,
   "id": "2f16c12a",
   "metadata": {},
   "outputs": [],
   "source": [
    "a='without,hello,bag,world'"
   ]
  },
  {
   "cell_type": "code",
   "execution_count": 19,
   "id": "ab2a66a7",
   "metadata": {},
   "outputs": [],
   "source": [
    "a=a.split(',')"
   ]
  },
  {
   "cell_type": "code",
   "execution_count": 21,
   "id": "419eabfb",
   "metadata": {},
   "outputs": [],
   "source": [
    "a.sort()"
   ]
  },
  {
   "cell_type": "code",
   "execution_count": 22,
   "id": "370bf9d2",
   "metadata": {},
   "outputs": [
    {
     "data": {
      "text/plain": [
       "['bag', 'hello', 'without', 'world']"
      ]
     },
     "execution_count": 22,
     "metadata": {},
     "output_type": "execute_result"
    }
   ],
   "source": [
    "a"
   ]
  },
  {
   "cell_type": "code",
   "execution_count": 23,
   "id": "4db2e518",
   "metadata": {},
   "outputs": [
    {
     "data": {
      "text/plain": [
       "'bag,hello,without,world'"
      ]
     },
     "execution_count": 23,
     "metadata": {},
     "output_type": "execute_result"
    }
   ],
   "source": [
    "','.join(a)"
   ]
  },
  {
   "cell_type": "markdown",
   "id": "a318248b",
   "metadata": {},
   "source": [
    "Write a program that accepts a sequence of whitespace separated words as input and prints\n",
    "the words after removing all duplicate words and sorting them alphanumerically.\n",
    "Suppose the following input is supplied to the program:\n",
    "hello world and practice makes perfect and hello world again\n",
    "Then, the output should be:\n",
    "again and hello makes perfect practice world"
   ]
  },
  {
   "cell_type": "code",
   "execution_count": 26,
   "id": "7434c713",
   "metadata": {},
   "outputs": [],
   "source": [
    "a='hello world and practice makes perfect and hello world again'\n",
    "a=a.split()"
   ]
  },
  {
   "cell_type": "code",
   "execution_count": 31,
   "id": "0f57f19b",
   "metadata": {},
   "outputs": [],
   "source": [
    "a=list(set(a))"
   ]
  },
  {
   "cell_type": "code",
   "execution_count": 32,
   "id": "d689fb9a",
   "metadata": {},
   "outputs": [],
   "source": [
    "a.sort()"
   ]
  },
  {
   "cell_type": "code",
   "execution_count": 33,
   "id": "0ad11b52",
   "metadata": {},
   "outputs": [
    {
     "data": {
      "text/plain": [
       "['again', 'and', 'hello', 'makes', 'perfect', 'practice', 'world']"
      ]
     },
     "execution_count": 33,
     "metadata": {},
     "output_type": "execute_result"
    }
   ],
   "source": [
    "a"
   ]
  },
  {
   "cell_type": "code",
   "execution_count": 34,
   "id": "a19dac49",
   "metadata": {},
   "outputs": [
    {
     "data": {
      "text/plain": [
       "'again and hello makes perfect practice world'"
      ]
     },
     "execution_count": 34,
     "metadata": {},
     "output_type": "execute_result"
    }
   ],
   "source": [
    "' '.join(a)"
   ]
  },
  {
   "cell_type": "code",
   "execution_count": 35,
   "id": "4915f177",
   "metadata": {},
   "outputs": [
    {
     "ename": "SyntaxError",
     "evalue": "invalid syntax (3919471931.py, line 1)",
     "output_type": "error",
     "traceback": [
      "\u001b[0;36m  File \u001b[0;32m\"/var/folders/6g/4wksqnzn4rdc2jvqscgf5hwh0000gn/T/ipykernel_26304/3919471931.py\"\u001b[0;36m, line \u001b[0;32m1\u001b[0m\n\u001b[0;31m    Write a program that accepts a sentence and calculate the number of letters and digits.\u001b[0m\n\u001b[0m          ^\u001b[0m\n\u001b[0;31mSyntaxError\u001b[0m\u001b[0;31m:\u001b[0m invalid syntax\n"
     ]
    }
   ],
   "source": [
    "Write a program that accepts a sentence and calculate the number of letters and digits.\n",
    "Suppose the following input is supplied to the program:\n",
    "hello world! 123\n",
    "Then, the output should be:\n",
    "LETTERS 10\n",
    "\n",
    "DIGITS 3"
   ]
  },
  {
   "cell_type": "code",
   "execution_count": 36,
   "id": "b9135afa",
   "metadata": {},
   "outputs": [],
   "source": [
    "a= 'hello world! 123'"
   ]
  },
  {
   "cell_type": "code",
   "execution_count": 39,
   "id": "421e9b03",
   "metadata": {},
   "outputs": [
    {
     "name": "stdout",
     "output_type": "stream",
     "text": [
      "10\n",
      "3\n"
     ]
    }
   ],
   "source": [
    "letter = 0\n",
    "Num= 0\n",
    "for i in a:\n",
    "    if i.isalpha():\n",
    "        letter +=1\n",
    "    elif i.isnumeric():\n",
    "        Num+=1\n",
    "print(letter)\n",
    "print(Num)\n",
    "        "
   ]
  },
  {
   "cell_type": "markdown",
   "id": "3be06d2a",
   "metadata": {},
   "source": [
    "A website requires the users to input username and password to register. Write a program to\n",
    "check the validity of password input by users.\n",
    "Following are the criteria for checking the password:\n",
    "1. At least 1 letter between [a-z]\n",
    "2. At least 1 number between [0-9]\n",
    "1. At least 1 letter between [A-Z]\n",
    "3. At least 1 character from [$#@]\n",
    "4. Minimum length of transaction password: 6\n",
    "5. Maximum length of transaction password: 12\n",
    "Your program should accept a sequence of comma separated passwords and will check them\n",
    "according to the above criteria. Passwords that match the criteria are to be printed, each\n",
    "separated by a comma.\n",
    "Example\n",
    "If the following passwords are given as input to the program:\n",
    "ABd1234@1,a F1#,2w3E*,2We3345\n",
    "Then, the output of the program should be:\n",
    "ABd1234@1"
   ]
  },
  {
   "cell_type": "code",
   "execution_count": 40,
   "id": "968dbaa6",
   "metadata": {},
   "outputs": [],
   "source": [
    "a='ABd1234@1,a F1#,2w3E*,2We3345'\n",
    "a=a.split(',')"
   ]
  },
  {
   "cell_type": "code",
   "execution_count": 41,
   "id": "c4009c76",
   "metadata": {},
   "outputs": [
    {
     "data": {
      "text/plain": [
       "['ABd1234@1', 'a F1#', '2w3E*', '2We3345']"
      ]
     },
     "execution_count": 41,
     "metadata": {},
     "output_type": "execute_result"
    }
   ],
   "source": [
    "a"
   ]
  },
  {
   "cell_type": "code",
   "execution_count": 55,
   "id": "a3b26b90",
   "metadata": {},
   "outputs": [
    {
     "name": "stdout",
     "output_type": "stream",
     "text": [
      "ABd1234@1\n"
     ]
    }
   ],
   "source": [
    "for i in a:\n",
    "    if ((len(i)>6) & (len(i)<12)):\n",
    "        if(i.isnumeric):\n",
    "            if(i.isupper):\n",
    "                if(i.islower):\n",
    "                    for char in i:\n",
    "                        if char in ['$','#','@']:\n",
    "                            print(i)"
   ]
  },
  {
   "cell_type": "code",
   "execution_count": null,
   "id": "71d911b4",
   "metadata": {},
   "outputs": [],
   "source": []
  },
  {
   "cell_type": "code",
   "execution_count": null,
   "id": "42f85c51",
   "metadata": {},
   "outputs": [],
   "source": []
  }
 ],
 "metadata": {
  "kernelspec": {
   "display_name": "Python 3 (ipykernel)",
   "language": "python",
   "name": "python3"
  },
  "language_info": {
   "codemirror_mode": {
    "name": "ipython",
    "version": 3
   },
   "file_extension": ".py",
   "mimetype": "text/x-python",
   "name": "python",
   "nbconvert_exporter": "python",
   "pygments_lexer": "ipython3",
   "version": "3.9.13"
  }
 },
 "nbformat": 4,
 "nbformat_minor": 5
}
