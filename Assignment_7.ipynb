{
 "cells": [
  {
   "cell_type": "markdown",
   "id": "ee2c244f",
   "metadata": {},
   "source": [
    "1. Write a Python Program to find sum of array?\n",
    "2. Write a Python Program to find largest element in an array?\n",
    "3. Write a Python Program for array rotation?\n",
    "4. Write a Python Program to Split the array and add the first part to the end?\n",
    "5. Write a Python Program to check if given array is Monotonic?"
   ]
  },
  {
   "cell_type": "markdown",
   "id": "5e2a1291",
   "metadata": {},
   "source": [
    "Write a Python Program to find sum of array?"
   ]
  },
  {
   "cell_type": "code",
   "execution_count": 3,
   "id": "b301715f",
   "metadata": {},
   "outputs": [
    {
     "data": {
      "text/plain": [
       "75"
      ]
     },
     "execution_count": 3,
     "metadata": {},
     "output_type": "execute_result"
    }
   ],
   "source": [
    "a=[12,12,1,21,2,1,21,2,1,2]\n",
    "l=0\n",
    "for i in a:\n",
    "    l+=i\n",
    "l"
   ]
  },
  {
   "cell_type": "markdown",
   "id": "81d7a608",
   "metadata": {},
   "source": [
    "Write a Python Program to find largest element in an array?"
   ]
  },
  {
   "cell_type": "code",
   "execution_count": 5,
   "id": "dc00ab10",
   "metadata": {},
   "outputs": [
    {
     "data": {
      "text/plain": [
       "32"
      ]
     },
     "execution_count": 5,
     "metadata": {},
     "output_type": "execute_result"
    }
   ],
   "source": [
    "def max_(a):\n",
    "    b=a[0]\n",
    "    for i in range(1,len(a)):\n",
    "        if a[i]<b:\n",
    "            b=b\n",
    "        else:\n",
    "            b=a[i]\n",
    "    return b\n",
    "max_([23,2,32,3,2,32,3,2])\n",
    "        "
   ]
  },
  {
   "cell_type": "markdown",
   "id": "62bccdd3",
   "metadata": {},
   "source": [
    "Write a Python Program for array rotation?"
   ]
  },
  {
   "cell_type": "code",
   "execution_count": 10,
   "id": "6117db31",
   "metadata": {},
   "outputs": [
    {
     "data": {
      "text/plain": [
       "[34, 34, 23]"
      ]
     },
     "execution_count": 10,
     "metadata": {},
     "output_type": "execute_result"
    }
   ],
   "source": [
    "l=[23,34,34]\n",
    "l=l[ :: -1]\n",
    "l"
   ]
  },
  {
   "cell_type": "markdown",
   "id": "c8ec6c17",
   "metadata": {},
   "source": [
    "Write a Python Program to Split the array and add the first part to the end?"
   ]
  },
  {
   "cell_type": "code",
   "execution_count": 16,
   "id": "571fce7a",
   "metadata": {},
   "outputs": [
    {
     "data": {
      "text/plain": [
       "[2, 12, 12, 21, 1, 212, 1, 21, 21]"
      ]
     },
     "execution_count": 16,
     "metadata": {},
     "output_type": "execute_result"
    }
   ],
   "source": [
    "a=[1,212,1,21,21,2,12,12,21]\n",
    "b=a[: 4 +1]\n",
    "c=a[5 : ]\n",
    "c+b"
   ]
  },
  {
   "cell_type": "markdown",
   "id": "007d885a",
   "metadata": {},
   "source": [
    "Write a Python Program to check if given array is Monotonic?"
   ]
  },
  {
   "cell_type": "code",
   "execution_count": 23,
   "id": "6678a793",
   "metadata": {},
   "outputs": [],
   "source": [
    "def monotonic(a):\n",
    "    Increasing = True\n",
    "    decreasing= True\n",
    "    for i in range(1,len(a)):\n",
    "        if a[i-1]<a[i]:\n",
    "            decreasing=False\n",
    "        elif(a[i-1]>a[i]):\n",
    "            Increasing = False\n",
    "    return Increasing or decreasing\n",
    "        "
   ]
  },
  {
   "cell_type": "code",
   "execution_count": 24,
   "id": "7ea72c1f",
   "metadata": {},
   "outputs": [
    {
     "data": {
      "text/plain": [
       "False"
      ]
     },
     "execution_count": 24,
     "metadata": {},
     "output_type": "execute_result"
    }
   ],
   "source": [
    "monotonic([12,12,1,2,32,3,34,3,4])"
   ]
  },
  {
   "cell_type": "code",
   "execution_count": null,
   "id": "0aa8bfa7",
   "metadata": {},
   "outputs": [],
   "source": []
  }
 ],
 "metadata": {
  "kernelspec": {
   "display_name": "Python 3 (ipykernel)",
   "language": "python",
   "name": "python3"
  },
  "language_info": {
   "codemirror_mode": {
    "name": "ipython",
    "version": 3
   },
   "file_extension": ".py",
   "mimetype": "text/x-python",
   "name": "python",
   "nbconvert_exporter": "python",
   "pygments_lexer": "ipython3",
   "version": "3.9.13"
  }
 },
 "nbformat": 4,
 "nbformat_minor": 5
}
