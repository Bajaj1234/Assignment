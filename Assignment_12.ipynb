{
 "cells": [
  {
   "cell_type": "markdown",
   "id": "3c6ee351",
   "metadata": {},
   "source": [
    "1. Write a Python program to Extract Unique values dictionary values?\n",
    "2. Write a Python program to find the sum of all items in a dictionary?\n",
    "3. Write a Python program to Merging two Dictionaries?\n",
    "4. Write a Python program to convert key-values list to flat dictionary?\n",
    "5. Write a Python program to insertion at the beginning in OrderedDict?\n",
    "6. Write a Python program to check order of character in string using OrderedDict()?\n",
    "7. Write a Python program to sort Python Dictionaries by Key or Value?"
   ]
  },
  {
   "cell_type": "markdown",
   "id": "4f858677",
   "metadata": {},
   "source": [
    "Write a Python program to Extract Unique values dictionary values?"
   ]
  },
  {
   "cell_type": "code",
   "execution_count": 13,
   "id": "4a4fdb8c",
   "metadata": {},
   "outputs": [
    {
     "data": {
      "text/plain": [
       "dict_values([[23, 23, 2332, 23], [2323]])"
      ]
     },
     "execution_count": 13,
     "metadata": {},
     "output_type": "execute_result"
    }
   ],
   "source": [
    "l={'wewwe':[23,23,2332,23],'dfdfs':[2323]}\n",
    "l.values()"
   ]
  },
  {
   "cell_type": "code",
   "execution_count": 14,
   "id": "9b28ac6c",
   "metadata": {},
   "outputs": [],
   "source": [
    "u=set()\n",
    "for i in l.values():\n",
    "    u.update(i)"
   ]
  },
  {
   "cell_type": "code",
   "execution_count": 15,
   "id": "669c655d",
   "metadata": {},
   "outputs": [
    {
     "data": {
      "text/plain": [
       "{23, 2323, 2332}"
      ]
     },
     "execution_count": 15,
     "metadata": {},
     "output_type": "execute_result"
    }
   ],
   "source": [
    "u"
   ]
  },
  {
   "cell_type": "markdown",
   "id": "f4a05b20",
   "metadata": {},
   "source": [
    "Write a Python program to find the sum of all items in a dictionary?"
   ]
  },
  {
   "cell_type": "code",
   "execution_count": 21,
   "id": "eae8975e",
   "metadata": {},
   "outputs": [],
   "source": [
    "l={'a':[12,12,1,21,21,2], 'b':[12,12,1,21,2,1,21,2]}"
   ]
  },
  {
   "cell_type": "code",
   "execution_count": 23,
   "id": "c451e3cd",
   "metadata": {},
   "outputs": [
    {
     "data": {
      "text/plain": [
       "141"
      ]
     },
     "execution_count": 23,
     "metadata": {},
     "output_type": "execute_result"
    }
   ],
   "source": [
    "sum=0\n",
    "for i in l.values():\n",
    "    for j in i:\n",
    "        sum+=j\n",
    "sum"
   ]
  },
  {
   "cell_type": "markdown",
   "id": "e2341997",
   "metadata": {},
   "source": [
    "Write a Python program to Merging two Dictionaries?"
   ]
  },
  {
   "cell_type": "code",
   "execution_count": 24,
   "id": "7710053b",
   "metadata": {},
   "outputs": [],
   "source": [
    "d={'c':[1,12,21,21,2], 'd':[12,12,21,2,1,21,2]}\n",
    "l.update(d)"
   ]
  },
  {
   "cell_type": "code",
   "execution_count": 25,
   "id": "01557fe6",
   "metadata": {},
   "outputs": [
    {
     "data": {
      "text/plain": [
       "{'a': [12, 12, 1, 21, 21, 2],\n",
       " 'b': [12, 12, 1, 21, 2, 1, 21, 2],\n",
       " 'c': [1, 12, 21, 21, 2],\n",
       " 'd': [12, 12, 21, 2, 1, 21, 2]}"
      ]
     },
     "execution_count": 25,
     "metadata": {},
     "output_type": "execute_result"
    }
   ],
   "source": [
    "l"
   ]
  },
  {
   "cell_type": "markdown",
   "id": "44dea600",
   "metadata": {},
   "source": [
    "Write a Python program to convert key-values list to flat dictionary?"
   ]
  },
  {
   "cell_type": "code",
   "execution_count": 26,
   "id": "e67d665f",
   "metadata": {},
   "outputs": [],
   "source": [
    "a=[('a',34),('b',34)]"
   ]
  },
  {
   "cell_type": "code",
   "execution_count": 29,
   "id": "1c168388",
   "metadata": {},
   "outputs": [
    {
     "data": {
      "text/plain": [
       "{'a': 34, 'b': 34}"
      ]
     },
     "execution_count": 29,
     "metadata": {},
     "output_type": "execute_result"
    }
   ],
   "source": [
    "l={}\n",
    "for key , value in a:\n",
    "    l[key]=value\n",
    "l"
   ]
  },
  {
   "cell_type": "markdown",
   "id": "dda73734",
   "metadata": {},
   "source": [
    "Write a Python program to insertion at the beginning in OrderedDict?"
   ]
  },
  {
   "cell_type": "code",
   "execution_count": 30,
   "id": "b4094588",
   "metadata": {},
   "outputs": [
    {
     "data": {
      "text/plain": [
       "{'a': 34, 'b': 34}"
      ]
     },
     "execution_count": 30,
     "metadata": {},
     "output_type": "execute_result"
    }
   ],
   "source": [
    "l"
   ]
  },
  {
   "cell_type": "code",
   "execution_count": null,
   "id": "6c95c3b0",
   "metadata": {},
   "outputs": [],
   "source": []
  },
  {
   "cell_type": "code",
   "execution_count": 46,
   "id": "f632fb8e",
   "metadata": {},
   "outputs": [
    {
     "name": "stdout",
     "output_type": "stream",
     "text": [
      "OrderedDict: OrderedDict([('d', 232), ('a', 1), ('b', 2), ('c', 3)])\n"
     ]
    }
   ],
   "source": [
    "from collections import OrderedDict\n",
    "\n",
    "# Creating an OrderedDict\n",
    "ordered_dict = OrderedDict()\n",
    "\n",
    "# Adding key-value pairs\n",
    "ordered_dict['a'] = 1\n",
    "ordered_dict['b'] = 2\n",
    "ordered_dict['c'] = 3\n",
    "ordered_dict['d']=232\n",
    "ordered_dict.move_to_end('d',last=False)\n",
    "\n",
    "\n",
    "print(\"OrderedDict:\", ordered_dict)"
   ]
  },
  {
   "cell_type": "markdown",
   "id": "f9d28abb",
   "metadata": {},
   "source": [
    "Write a Python program to check order of character in string using OrderedDict()?"
   ]
  },
  {
   "cell_type": "code",
   "execution_count": 51,
   "id": "a7306751",
   "metadata": {},
   "outputs": [],
   "source": [
    "a='dfskjnfie'"
   ]
  },
  {
   "cell_type": "code",
   "execution_count": 53,
   "id": "64bdf559",
   "metadata": {},
   "outputs": [
    {
     "data": {
      "text/plain": [
       "OrderedDict([('d', 1),\n",
       "             ('f', 2),\n",
       "             ('s', 3),\n",
       "             ('k', 4),\n",
       "             ('j', 5),\n",
       "             ('n', 6),\n",
       "             ('i', 7),\n",
       "             ('e', 8)])"
      ]
     },
     "execution_count": 53,
     "metadata": {},
     "output_type": "execute_result"
    }
   ],
   "source": [
    "b=OrderedDict()\n",
    "for i in a:\n",
    "    if i not in b:\n",
    "        b[i]=len(b)+1\n",
    "b"
   ]
  },
  {
   "cell_type": "markdown",
   "id": "37464b38",
   "metadata": {},
   "source": [
    "Write a Python program to sort Python Dictionaries by Key or Value?"
   ]
  },
  {
   "cell_type": "code",
   "execution_count": 54,
   "id": "35b82d6e",
   "metadata": {},
   "outputs": [
    {
     "data": {
      "text/plain": [
       "{'a': 34, 'b': 34}"
      ]
     },
     "execution_count": 54,
     "metadata": {},
     "output_type": "execute_result"
    }
   ],
   "source": [
    "l"
   ]
  },
  {
   "cell_type": "code",
   "execution_count": 55,
   "id": "3656a3c8",
   "metadata": {},
   "outputs": [
    {
     "name": "stdout",
     "output_type": "stream",
     "text": [
      "Original Dictionary: {'banana': 3, 'apple': 1, 'orange': 2, 'grape': 4}\n",
      "Sorted Dictionary by Key: {'apple': 1, 'banana': 3, 'grape': 4, 'orange': 2}\n"
     ]
    }
   ],
   "source": [
    "my_dict = {'banana': 3, 'apple': 1, 'orange': 2, 'grape': 4}\n",
    "\n",
    "# Sort the dictionary by key\n",
    "sorted_dict_by_key = dict(sorted(my_dict.items()))\n",
    "\n",
    "print(\"Original Dictionary:\", my_dict)\n",
    "print(\"Sorted Dictionary by Key:\", sorted_dict_by_key)"
   ]
  },
  {
   "cell_type": "code",
   "execution_count": 60,
   "id": "13f2ac84",
   "metadata": {},
   "outputs": [
    {
     "data": {
      "text/plain": [
       "[('apple', 1), ('banana', 3), ('grape', 4), ('orange', 2)]"
      ]
     },
     "execution_count": 60,
     "metadata": {},
     "output_type": "execute_result"
    }
   ],
   "source": [
    "my_dict = {'banana': 3, 'apple': 1, 'orange': 2, 'grape': 4}\n",
    "\n",
    "# Sort the dictionary by ke\n",
    "sorted(my_dict.items())"
   ]
  },
  {
   "cell_type": "code",
   "execution_count": null,
   "id": "5689aeac",
   "metadata": {},
   "outputs": [],
   "source": [
    "f"
   ]
  }
 ],
 "metadata": {
  "kernelspec": {
   "display_name": "Python 3 (ipykernel)",
   "language": "python",
   "name": "python3"
  },
  "language_info": {
   "codemirror_mode": {
    "name": "ipython",
    "version": 3
   },
   "file_extension": ".py",
   "mimetype": "text/x-python",
   "name": "python",
   "nbconvert_exporter": "python",
   "pygments_lexer": "ipython3",
   "version": "3.9.13"
  }
 },
 "nbformat": 4,
 "nbformat_minor": 5
}
